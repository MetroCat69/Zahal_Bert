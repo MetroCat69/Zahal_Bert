{
 "cells": [
  {
   "cell_type": "code",
   "execution_count": 1,
   "id": "3fd2a96f-7f57-4746-ad76-c3b8911f6a53",
   "metadata": {},
   "outputs": [
    {
     "name": "stdout",
     "output_type": "stream",
     "text": [
      "Requirement already satisfied: PyPDF2 in c:\\users\\metrocat1\\appdata\\local\\programs\\python\\python38\\lib\\site-packages (2.11.1)\n",
      "Requirement already satisfied: typing-extensions>=3.10.0.0 in c:\\users\\metrocat1\\appdata\\local\\programs\\python\\python38\\lib\\site-packages (from PyPDF2) (4.4.0)\n"
     ]
    },
    {
     "name": "stderr",
     "output_type": "stream",
     "text": [
      "\n",
      "[notice] A new release of pip available: 22.3.1 -> 23.1.2\n",
      "[notice] To update, run: python.exe -m pip install --upgrade pip\n"
     ]
    }
   ],
   "source": [
    "!pip install PyPDF2"
   ]
  },
  {
   "cell_type": "code",
   "execution_count": 126,
   "id": "3f88601a-2f46-4226-b03d-50f54e145ae0",
   "metadata": {},
   "outputs": [],
   "source": [
    "import re\n",
    "\n",
    "def clean_text(text):\n",
    "    # Remove double quotation marks\n",
    "    text = text.replace('\"',\"\")\n",
    "    text = text.replace('״',\"\")\n",
    "        # remove nikud\n",
    "    text = re.sub(r'[\\u0590-\\u05C9]', '', text)\n",
    "      # Remove characters inside square brackets and the brackets themselves\n",
    "    text = re.sub(r'\\[.*?\\]', ' ', text)\n",
    "    # Replace characters with no space\n",
    "    text = re.sub(r\"[<>+=*|@#$%^&~`\\'+-=]\",'', text)\n",
    "\n",
    "    # Replace characters with spaces\n",
    "    text = re.sub(r'[.;,?!:/\\\\?!()\\[\\]{}|\\n\\t]', ' ', text)\n",
    "   # remove concecative spaces\n",
    "    text = text.replace(' ',\" \")\n",
    "\n",
    "\n",
    "    return text\n",
    "\n",
    "\n",
    "    return text"
   ]
  },
  {
   "cell_type": "code",
   "execution_count": 168,
   "id": "bb233d08-2a96-4d1b-83ba-9f66292f2b43",
   "metadata": {},
   "outputs": [],
   "source": [
    "import PyPDF2\n",
    "\n",
    "def extract_all_characters_from_pdf(file_path,page_numbers_to_extract_from):\n",
    "    file_text = ''\n",
    "    with open(file_path, 'rb') as file:\n",
    "        pdf = PyPDF2.PdfReader(file)\n",
    "        for page_number in range(len(pdf.pages)):\n",
    "            if page_number in page_numbers_to_extract_from:\n",
    "                page = pdf.pages[page_number]\n",
    "                page_text = page.extract_text()\n",
    "                if len(page_text) > 4:\n",
    "                    file_text += clean_text(page_text)\n",
    "                \n",
    "    return file_text\n"
   ]
  },
  {
   "cell_type": "markdown",
   "id": "96e8a88d-21b8-4eb5-af47-cbd92355ba18",
   "metadata": {},
   "source": [
    "# do מילון הקיצורים וראשי הטיבות 2010"
   ]
  },
  {
   "cell_type": "code",
   "execution_count": 169,
   "id": "bfb48de1-a315-44e8-a831-fe1714856e94",
   "metadata": {},
   "outputs": [],
   "source": [
    "file_path = r\"C:\\Users\\MetroCat1\\Desktop\\learn_programing\\genersting percy jaskson\\מילונים\\sc.dict.pdf\"\n",
    "page_numbers_to_extract_from = [i for i in range(24,326)]\n",
    "all_characters_2010 = extract_all_characters_from_pdf(file_path,page_numbers_to_extract_from)\n",
    "\n"
   ]
  },
  {
   "cell_type": "code",
   "execution_count": 170,
   "id": "85a43378-260f-4941-bdda-8c67bf9e42e2",
   "metadata": {},
   "outputs": [
    {
     "data": {
      "text/plain": [
       "14138"
      ]
     },
     "execution_count": 170,
     "metadata": {},
     "output_type": "execute_result"
    }
   ],
   "source": [
    "len(set([ word for word in all_characters_2010.split(' ') if word != '' ]))"
   ]
  },
  {
   "cell_type": "markdown",
   "id": "4f5119f4-8638-4bae-90fc-2bed60c97cb4",
   "metadata": {},
   "source": [
    "# do מילון הקיצורים וראשי הטיבות 2020"
   ]
  },
  {
   "cell_type": "code",
   "execution_count": 171,
   "id": "ab80e6fc-6616-43c8-b180-a77b43bf2270",
   "metadata": {},
   "outputs": [],
   "source": [
    "file_path = r\"C:\\Users\\MetroCat1\\Desktop\\learn_programing\\genersting percy jaskson\\מילונים\\20-05-21-מילון-הקיצורים-וראשי-התיבות-עדכון-לדיגיטל.pdf\"\n",
    "page_numbers_to_extract_from = [i for i in range(23,361)]\n",
    "all_characters_2020 = extract_all_characters_from_pdf(file_path,page_numbers_to_extract_from)\n",
    "\n"
   ]
  },
  {
   "cell_type": "code",
   "execution_count": null,
   "id": "c0dc2e89-dd64-4010-bc40-6dd8c3bf6c18",
   "metadata": {},
   "outputs": [],
   "source": []
  },
  {
   "cell_type": "markdown",
   "id": "08c59d6f-005f-4b47-a1c5-3090264570b8",
   "metadata": {},
   "source": [
    "# do מילון למונחי חירום במרחב האזרחי\n"
   ]
  },
  {
   "cell_type": "code",
   "execution_count": 172,
   "id": "c824446b-1380-4c6a-9238-2d7f76870f3b",
   "metadata": {},
   "outputs": [],
   "source": [
    "file_path = r\"C:\\Users\\MetroCat1\\Desktop\\learn_programing\\genersting percy jaskson\\מילונים\\תדריך-רחל-מילון-למונחי-חירום-במרחב-האזרחי-2021.pdf\"\n",
    "page_numbers_to_extract_from = [i for i in range(5,51)]\n",
    "all_characters_merhav_ezrachi = extract_all_characters_from_pdf(file_path,page_numbers_to_extract_from)\n",
    "\n"
   ]
  },
  {
   "cell_type": "code",
   "execution_count": 173,
   "id": "36df6742-27a7-416a-90e6-e5109584936f",
   "metadata": {},
   "outputs": [
    {
     "data": {
      "text/plain": [
       "4792"
      ]
     },
     "execution_count": 173,
     "metadata": {},
     "output_type": "execute_result"
    }
   ],
   "source": [
    "len(set([ word for word in all_characters_merhav_ezrachi.split(' ') if word != '' ]))"
   ]
  },
  {
   "cell_type": "code",
   "execution_count": null,
   "id": "35767453-b577-460c-a17c-74fc1b2cd30f",
   "metadata": {},
   "outputs": [],
   "source": []
  },
  {
   "cell_type": "code",
   "execution_count": 174,
   "id": "c0f2a16d-3049-4135-a845-516f6c4e0d03",
   "metadata": {},
   "outputs": [
    {
     "data": {
      "text/plain": [
       "19204"
      ]
     },
     "execution_count": 174,
     "metadata": {},
     "output_type": "execute_result"
    }
   ],
   "source": [
    "len(set([ word for word in (all_characters_2020 + all_characters_2010).split(' ') if word != '' ]))"
   ]
  },
  {
   "cell_type": "code",
   "execution_count": 175,
   "id": "0e920387-d2e0-4f1a-af78-3ae5a7ff80bc",
   "metadata": {},
   "outputs": [
    {
     "data": {
      "text/plain": [
       "22286"
      ]
     },
     "execution_count": 175,
     "metadata": {},
     "output_type": "execute_result"
    }
   ],
   "source": [
    "len(set([ word for word in (all_characters_2020 + all_characters_2010+all_characters_merhav_ezrachi).split(' ') if word != '' ]))"
   ]
  },
  {
   "cell_type": "code",
   "execution_count": 177,
   "id": "1855ef28-d97d-41ee-a464-a1b95bb3e2ca",
   "metadata": {},
   "outputs": [],
   "source": [
    "TOKENS_STR = ';'.join(list(set([ word for word in (all_characters_2020 + all_characters_2010+all_characters_merhav_ezrachi).split(' ') if word != '' ])))"
   ]
  },
  {
   "cell_type": "code",
   "execution_count": 178,
   "id": "453f98d0-2a64-408d-bf8f-5b3206cd96d9",
   "metadata": {},
   "outputs": [],
   "source": [
    "text_file = open(\"tokens.txt\", \"w\",encoding=\"utf8\")\n",
    "text_file.write(TOKENS_STR)\n",
    "text_file.close()"
   ]
  },
  {
   "cell_type": "code",
   "execution_count": 179,
   "id": "002057e0-2472-4585-bc36-e0ec4c91c5f0",
   "metadata": {},
   "outputs": [
    {
     "data": {
      "text/plain": [
       "22286"
      ]
     },
     "execution_count": 179,
     "metadata": {},
     "output_type": "execute_result"
    }
   ],
   "source": [
    "len(TOKENS_STR.split(';'))"
   ]
  },
  {
   "cell_type": "code",
   "execution_count": null,
   "id": "1b11b510-7fe5-4646-ae4b-855962a9c4ce",
   "metadata": {},
   "outputs": [],
   "source": []
  }
 ],
 "metadata": {
  "kernelspec": {
   "display_name": "Python 3 (ipykernel)",
   "language": "python",
   "name": "python3"
  },
  "language_info": {
   "codemirror_mode": {
    "name": "ipython",
    "version": 3
   },
   "file_extension": ".py",
   "mimetype": "text/x-python",
   "name": "python",
   "nbconvert_exporter": "python",
   "pygments_lexer": "ipython3",
   "version": "3.8.0"
  }
 },
 "nbformat": 4,
 "nbformat_minor": 5
}
