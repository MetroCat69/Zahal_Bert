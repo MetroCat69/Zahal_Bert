{
  "nbformat": 4,
  "nbformat_minor": 0,
  "metadata": {
    "colab": {
      "provenance": []
    },
    "kernelspec": {
      "name": "python3",
      "display_name": "Python 3"
    },
    "language_info": {
      "name": "python"
    },
    "widgets": {
      "application/vnd.jupyter.widget-state+json": {
        "3a1bb3d7ec364f4283af149d540ed711": {
          "model_module": "@jupyter-widgets/controls",
          "model_name": "HBoxModel",
          "model_module_version": "1.5.0",
          "state": {
            "_dom_classes": [],
            "_model_module": "@jupyter-widgets/controls",
            "_model_module_version": "1.5.0",
            "_model_name": "HBoxModel",
            "_view_count": null,
            "_view_module": "@jupyter-widgets/controls",
            "_view_module_version": "1.5.0",
            "_view_name": "HBoxView",
            "box_style": "",
            "children": [
              "IPY_MODEL_cd360cc0761c4aef94817cc1022aef25",
              "IPY_MODEL_0d2673ea011f431b9ba16fd3ccb9d2a9",
              "IPY_MODEL_b9f61693bdb840bdacf824c52828f7b0"
            ],
            "layout": "IPY_MODEL_556a99ff5b20433bafa8476f156edf96"
          }
        },
        "cd360cc0761c4aef94817cc1022aef25": {
          "model_module": "@jupyter-widgets/controls",
          "model_name": "HTMLModel",
          "model_module_version": "1.5.0",
          "state": {
            "_dom_classes": [],
            "_model_module": "@jupyter-widgets/controls",
            "_model_module_version": "1.5.0",
            "_model_name": "HTMLModel",
            "_view_count": null,
            "_view_module": "@jupyter-widgets/controls",
            "_view_module_version": "1.5.0",
            "_view_name": "HTMLView",
            "description": "",
            "description_tooltip": null,
            "layout": "IPY_MODEL_9c69d015c2b24f5c8acd13ab9c8623f7",
            "placeholder": "​",
            "style": "IPY_MODEL_52eeba60064b4df1baddd13fc9218578",
            "value": "100%"
          }
        },
        "0d2673ea011f431b9ba16fd3ccb9d2a9": {
          "model_module": "@jupyter-widgets/controls",
          "model_name": "FloatProgressModel",
          "model_module_version": "1.5.0",
          "state": {
            "_dom_classes": [],
            "_model_module": "@jupyter-widgets/controls",
            "_model_module_version": "1.5.0",
            "_model_name": "FloatProgressModel",
            "_view_count": null,
            "_view_module": "@jupyter-widgets/controls",
            "_view_module_version": "1.5.0",
            "_view_name": "ProgressView",
            "bar_style": "success",
            "description": "",
            "description_tooltip": null,
            "layout": "IPY_MODEL_2a7075fb8197404a91f23f4a9aa485e2",
            "max": 1,
            "min": 0,
            "orientation": "horizontal",
            "style": "IPY_MODEL_f7d851999f17425d9dc6d4a7b08e581c",
            "value": 1
          }
        },
        "b9f61693bdb840bdacf824c52828f7b0": {
          "model_module": "@jupyter-widgets/controls",
          "model_name": "HTMLModel",
          "model_module_version": "1.5.0",
          "state": {
            "_dom_classes": [],
            "_model_module": "@jupyter-widgets/controls",
            "_model_module_version": "1.5.0",
            "_model_name": "HTMLModel",
            "_view_count": null,
            "_view_module": "@jupyter-widgets/controls",
            "_view_module_version": "1.5.0",
            "_view_name": "HTMLView",
            "description": "",
            "description_tooltip": null,
            "layout": "IPY_MODEL_7a171172084f4f13829f5fb0d5b7e64a",
            "placeholder": "​",
            "style": "IPY_MODEL_d67169c6fa7e4e00947b582946df0c52",
            "value": " 1/1 [00:00&lt;00:00, 54.52it/s]"
          }
        },
        "556a99ff5b20433bafa8476f156edf96": {
          "model_module": "@jupyter-widgets/base",
          "model_name": "LayoutModel",
          "model_module_version": "1.2.0",
          "state": {
            "_model_module": "@jupyter-widgets/base",
            "_model_module_version": "1.2.0",
            "_model_name": "LayoutModel",
            "_view_count": null,
            "_view_module": "@jupyter-widgets/base",
            "_view_module_version": "1.2.0",
            "_view_name": "LayoutView",
            "align_content": null,
            "align_items": null,
            "align_self": null,
            "border": null,
            "bottom": null,
            "display": null,
            "flex": null,
            "flex_flow": null,
            "grid_area": null,
            "grid_auto_columns": null,
            "grid_auto_flow": null,
            "grid_auto_rows": null,
            "grid_column": null,
            "grid_gap": null,
            "grid_row": null,
            "grid_template_areas": null,
            "grid_template_columns": null,
            "grid_template_rows": null,
            "height": null,
            "justify_content": null,
            "justify_items": null,
            "left": null,
            "margin": null,
            "max_height": null,
            "max_width": null,
            "min_height": null,
            "min_width": null,
            "object_fit": null,
            "object_position": null,
            "order": null,
            "overflow": null,
            "overflow_x": null,
            "overflow_y": null,
            "padding": null,
            "right": null,
            "top": null,
            "visibility": null,
            "width": null
          }
        },
        "9c69d015c2b24f5c8acd13ab9c8623f7": {
          "model_module": "@jupyter-widgets/base",
          "model_name": "LayoutModel",
          "model_module_version": "1.2.0",
          "state": {
            "_model_module": "@jupyter-widgets/base",
            "_model_module_version": "1.2.0",
            "_model_name": "LayoutModel",
            "_view_count": null,
            "_view_module": "@jupyter-widgets/base",
            "_view_module_version": "1.2.0",
            "_view_name": "LayoutView",
            "align_content": null,
            "align_items": null,
            "align_self": null,
            "border": null,
            "bottom": null,
            "display": null,
            "flex": null,
            "flex_flow": null,
            "grid_area": null,
            "grid_auto_columns": null,
            "grid_auto_flow": null,
            "grid_auto_rows": null,
            "grid_column": null,
            "grid_gap": null,
            "grid_row": null,
            "grid_template_areas": null,
            "grid_template_columns": null,
            "grid_template_rows": null,
            "height": null,
            "justify_content": null,
            "justify_items": null,
            "left": null,
            "margin": null,
            "max_height": null,
            "max_width": null,
            "min_height": null,
            "min_width": null,
            "object_fit": null,
            "object_position": null,
            "order": null,
            "overflow": null,
            "overflow_x": null,
            "overflow_y": null,
            "padding": null,
            "right": null,
            "top": null,
            "visibility": null,
            "width": null
          }
        },
        "52eeba60064b4df1baddd13fc9218578": {
          "model_module": "@jupyter-widgets/controls",
          "model_name": "DescriptionStyleModel",
          "model_module_version": "1.5.0",
          "state": {
            "_model_module": "@jupyter-widgets/controls",
            "_model_module_version": "1.5.0",
            "_model_name": "DescriptionStyleModel",
            "_view_count": null,
            "_view_module": "@jupyter-widgets/base",
            "_view_module_version": "1.2.0",
            "_view_name": "StyleView",
            "description_width": ""
          }
        },
        "2a7075fb8197404a91f23f4a9aa485e2": {
          "model_module": "@jupyter-widgets/base",
          "model_name": "LayoutModel",
          "model_module_version": "1.2.0",
          "state": {
            "_model_module": "@jupyter-widgets/base",
            "_model_module_version": "1.2.0",
            "_model_name": "LayoutModel",
            "_view_count": null,
            "_view_module": "@jupyter-widgets/base",
            "_view_module_version": "1.2.0",
            "_view_name": "LayoutView",
            "align_content": null,
            "align_items": null,
            "align_self": null,
            "border": null,
            "bottom": null,
            "display": null,
            "flex": null,
            "flex_flow": null,
            "grid_area": null,
            "grid_auto_columns": null,
            "grid_auto_flow": null,
            "grid_auto_rows": null,
            "grid_column": null,
            "grid_gap": null,
            "grid_row": null,
            "grid_template_areas": null,
            "grid_template_columns": null,
            "grid_template_rows": null,
            "height": null,
            "justify_content": null,
            "justify_items": null,
            "left": null,
            "margin": null,
            "max_height": null,
            "max_width": null,
            "min_height": null,
            "min_width": null,
            "object_fit": null,
            "object_position": null,
            "order": null,
            "overflow": null,
            "overflow_x": null,
            "overflow_y": null,
            "padding": null,
            "right": null,
            "top": null,
            "visibility": null,
            "width": null
          }
        },
        "f7d851999f17425d9dc6d4a7b08e581c": {
          "model_module": "@jupyter-widgets/controls",
          "model_name": "ProgressStyleModel",
          "model_module_version": "1.5.0",
          "state": {
            "_model_module": "@jupyter-widgets/controls",
            "_model_module_version": "1.5.0",
            "_model_name": "ProgressStyleModel",
            "_view_count": null,
            "_view_module": "@jupyter-widgets/base",
            "_view_module_version": "1.2.0",
            "_view_name": "StyleView",
            "bar_color": null,
            "description_width": ""
          }
        },
        "7a171172084f4f13829f5fb0d5b7e64a": {
          "model_module": "@jupyter-widgets/base",
          "model_name": "LayoutModel",
          "model_module_version": "1.2.0",
          "state": {
            "_model_module": "@jupyter-widgets/base",
            "_model_module_version": "1.2.0",
            "_model_name": "LayoutModel",
            "_view_count": null,
            "_view_module": "@jupyter-widgets/base",
            "_view_module_version": "1.2.0",
            "_view_name": "LayoutView",
            "align_content": null,
            "align_items": null,
            "align_self": null,
            "border": null,
            "bottom": null,
            "display": null,
            "flex": null,
            "flex_flow": null,
            "grid_area": null,
            "grid_auto_columns": null,
            "grid_auto_flow": null,
            "grid_auto_rows": null,
            "grid_column": null,
            "grid_gap": null,
            "grid_row": null,
            "grid_template_areas": null,
            "grid_template_columns": null,
            "grid_template_rows": null,
            "height": null,
            "justify_content": null,
            "justify_items": null,
            "left": null,
            "margin": null,
            "max_height": null,
            "max_width": null,
            "min_height": null,
            "min_width": null,
            "object_fit": null,
            "object_position": null,
            "order": null,
            "overflow": null,
            "overflow_x": null,
            "overflow_y": null,
            "padding": null,
            "right": null,
            "top": null,
            "visibility": null,
            "width": null
          }
        },
        "d67169c6fa7e4e00947b582946df0c52": {
          "model_module": "@jupyter-widgets/controls",
          "model_name": "DescriptionStyleModel",
          "model_module_version": "1.5.0",
          "state": {
            "_model_module": "@jupyter-widgets/controls",
            "_model_module_version": "1.5.0",
            "_model_name": "DescriptionStyleModel",
            "_view_count": null,
            "_view_module": "@jupyter-widgets/base",
            "_view_module_version": "1.2.0",
            "_view_name": "StyleView",
            "description_width": ""
          }
        }
      }
    }
  },
  "cells": [
    {
      "cell_type": "code",
      "execution_count": null,
      "metadata": {
        "id": "abCzoNhufIuu"
      },
      "outputs": [],
      "source": []
    },
    {
      "cell_type": "markdown",
      "source": [
        "# imports "
      ],
      "metadata": {
        "id": "auxBt1pjfXIg"
      }
    },
    {
      "cell_type": "code",
      "source": [
        "import pandas as pd\n",
        "import numpy as np\n",
        "!pip install transformers==4.28.0\n",
        "!pip install datasets\n",
        "from datasets import load_dataset\n",
        "import torch\n",
        "from transformers import AutoTokenizer\n"
      ],
      "metadata": {
        "colab": {
          "base_uri": "https://localhost:8080/"
        },
        "id": "X5axfhZpfRTu",
        "outputId": "a0e94e52-5b04-491a-ef4c-c5004b25a352"
      },
      "execution_count": null,
      "outputs": [
        {
          "output_type": "stream",
          "name": "stdout",
          "text": [
            "Looking in indexes: https://pypi.org/simple, https://us-python.pkg.dev/colab-wheels/public/simple/\n",
            "Requirement already satisfied: transformers==4.28.0 in /usr/local/lib/python3.10/dist-packages (4.28.0)\n",
            "Requirement already satisfied: filelock in /usr/local/lib/python3.10/dist-packages (from transformers==4.28.0) (3.12.0)\n",
            "Requirement already satisfied: huggingface-hub<1.0,>=0.11.0 in /usr/local/lib/python3.10/dist-packages (from transformers==4.28.0) (0.15.1)\n",
            "Requirement already satisfied: numpy>=1.17 in /usr/local/lib/python3.10/dist-packages (from transformers==4.28.0) (1.22.4)\n",
            "Requirement already satisfied: packaging>=20.0 in /usr/local/lib/python3.10/dist-packages (from transformers==4.28.0) (23.1)\n",
            "Requirement already satisfied: pyyaml>=5.1 in /usr/local/lib/python3.10/dist-packages (from transformers==4.28.0) (6.0)\n",
            "Requirement already satisfied: regex!=2019.12.17 in /usr/local/lib/python3.10/dist-packages (from transformers==4.28.0) (2022.10.31)\n",
            "Requirement already satisfied: requests in /usr/local/lib/python3.10/dist-packages (from transformers==4.28.0) (2.27.1)\n",
            "Requirement already satisfied: tokenizers!=0.11.3,<0.14,>=0.11.1 in /usr/local/lib/python3.10/dist-packages (from transformers==4.28.0) (0.13.3)\n",
            "Requirement already satisfied: tqdm>=4.27 in /usr/local/lib/python3.10/dist-packages (from transformers==4.28.0) (4.65.0)\n",
            "Requirement already satisfied: fsspec in /usr/local/lib/python3.10/dist-packages (from huggingface-hub<1.0,>=0.11.0->transformers==4.28.0) (2023.4.0)\n",
            "Requirement already satisfied: typing-extensions>=3.7.4.3 in /usr/local/lib/python3.10/dist-packages (from huggingface-hub<1.0,>=0.11.0->transformers==4.28.0) (4.5.0)\n",
            "Requirement already satisfied: urllib3<1.27,>=1.21.1 in /usr/local/lib/python3.10/dist-packages (from requests->transformers==4.28.0) (1.26.15)\n",
            "Requirement already satisfied: certifi>=2017.4.17 in /usr/local/lib/python3.10/dist-packages (from requests->transformers==4.28.0) (2022.12.7)\n",
            "Requirement already satisfied: charset-normalizer~=2.0.0 in /usr/local/lib/python3.10/dist-packages (from requests->transformers==4.28.0) (2.0.12)\n",
            "Requirement already satisfied: idna<4,>=2.5 in /usr/local/lib/python3.10/dist-packages (from requests->transformers==4.28.0) (3.4)\n",
            "Looking in indexes: https://pypi.org/simple, https://us-python.pkg.dev/colab-wheels/public/simple/\n",
            "Requirement already satisfied: datasets in /usr/local/lib/python3.10/dist-packages (2.12.0)\n",
            "Requirement already satisfied: numpy>=1.17 in /usr/local/lib/python3.10/dist-packages (from datasets) (1.22.4)\n",
            "Requirement already satisfied: pyarrow>=8.0.0 in /usr/local/lib/python3.10/dist-packages (from datasets) (9.0.0)\n",
            "Requirement already satisfied: dill<0.3.7,>=0.3.0 in /usr/local/lib/python3.10/dist-packages (from datasets) (0.3.6)\n",
            "Requirement already satisfied: pandas in /usr/local/lib/python3.10/dist-packages (from datasets) (1.5.3)\n",
            "Requirement already satisfied: requests>=2.19.0 in /usr/local/lib/python3.10/dist-packages (from datasets) (2.27.1)\n",
            "Requirement already satisfied: tqdm>=4.62.1 in /usr/local/lib/python3.10/dist-packages (from datasets) (4.65.0)\n",
            "Requirement already satisfied: xxhash in /usr/local/lib/python3.10/dist-packages (from datasets) (3.2.0)\n",
            "Requirement already satisfied: multiprocess in /usr/local/lib/python3.10/dist-packages (from datasets) (0.70.14)\n",
            "Requirement already satisfied: fsspec[http]>=2021.11.1 in /usr/local/lib/python3.10/dist-packages (from datasets) (2023.4.0)\n",
            "Requirement already satisfied: aiohttp in /usr/local/lib/python3.10/dist-packages (from datasets) (3.8.4)\n",
            "Requirement already satisfied: huggingface-hub<1.0.0,>=0.11.0 in /usr/local/lib/python3.10/dist-packages (from datasets) (0.15.1)\n",
            "Requirement already satisfied: packaging in /usr/local/lib/python3.10/dist-packages (from datasets) (23.1)\n",
            "Requirement already satisfied: responses<0.19 in /usr/local/lib/python3.10/dist-packages (from datasets) (0.18.0)\n",
            "Requirement already satisfied: pyyaml>=5.1 in /usr/local/lib/python3.10/dist-packages (from datasets) (6.0)\n",
            "Requirement already satisfied: attrs>=17.3.0 in /usr/local/lib/python3.10/dist-packages (from aiohttp->datasets) (23.1.0)\n",
            "Requirement already satisfied: charset-normalizer<4.0,>=2.0 in /usr/local/lib/python3.10/dist-packages (from aiohttp->datasets) (2.0.12)\n",
            "Requirement already satisfied: multidict<7.0,>=4.5 in /usr/local/lib/python3.10/dist-packages (from aiohttp->datasets) (6.0.4)\n",
            "Requirement already satisfied: async-timeout<5.0,>=4.0.0a3 in /usr/local/lib/python3.10/dist-packages (from aiohttp->datasets) (4.0.2)\n",
            "Requirement already satisfied: yarl<2.0,>=1.0 in /usr/local/lib/python3.10/dist-packages (from aiohttp->datasets) (1.9.2)\n",
            "Requirement already satisfied: frozenlist>=1.1.1 in /usr/local/lib/python3.10/dist-packages (from aiohttp->datasets) (1.3.3)\n",
            "Requirement already satisfied: aiosignal>=1.1.2 in /usr/local/lib/python3.10/dist-packages (from aiohttp->datasets) (1.3.1)\n",
            "Requirement already satisfied: filelock in /usr/local/lib/python3.10/dist-packages (from huggingface-hub<1.0.0,>=0.11.0->datasets) (3.12.0)\n",
            "Requirement already satisfied: typing-extensions>=3.7.4.3 in /usr/local/lib/python3.10/dist-packages (from huggingface-hub<1.0.0,>=0.11.0->datasets) (4.5.0)\n",
            "Requirement already satisfied: urllib3<1.27,>=1.21.1 in /usr/local/lib/python3.10/dist-packages (from requests>=2.19.0->datasets) (1.26.15)\n",
            "Requirement already satisfied: certifi>=2017.4.17 in /usr/local/lib/python3.10/dist-packages (from requests>=2.19.0->datasets) (2022.12.7)\n",
            "Requirement already satisfied: idna<4,>=2.5 in /usr/local/lib/python3.10/dist-packages (from requests>=2.19.0->datasets) (3.4)\n",
            "Requirement already satisfied: python-dateutil>=2.8.1 in /usr/local/lib/python3.10/dist-packages (from pandas->datasets) (2.8.2)\n",
            "Requirement already satisfied: pytz>=2020.1 in /usr/local/lib/python3.10/dist-packages (from pandas->datasets) (2022.7.1)\n",
            "Requirement already satisfied: six>=1.5 in /usr/local/lib/python3.10/dist-packages (from python-dateutil>=2.8.1->pandas->datasets) (1.16.0)\n"
          ]
        }
      ]
    },
    {
      "cell_type": "code",
      "source": [
        "tokenizer = AutoTokenizer.from_pretrained(\"imvladikon/alephbertgimmel-small-128\")\n",
        "dataset = load_dataset(\"MetroCat/HEBREW-MIL-CLEAN\")['train']"
      ],
      "metadata": {
        "colab": {
          "base_uri": "https://localhost:8080/",
          "height": 86,
          "referenced_widgets": [
            "3a1bb3d7ec364f4283af149d540ed711",
            "cd360cc0761c4aef94817cc1022aef25",
            "0d2673ea011f431b9ba16fd3ccb9d2a9",
            "b9f61693bdb840bdacf824c52828f7b0",
            "556a99ff5b20433bafa8476f156edf96",
            "9c69d015c2b24f5c8acd13ab9c8623f7",
            "52eeba60064b4df1baddd13fc9218578",
            "2a7075fb8197404a91f23f4a9aa485e2",
            "f7d851999f17425d9dc6d4a7b08e581c",
            "7a171172084f4f13829f5fb0d5b7e64a",
            "d67169c6fa7e4e00947b582946df0c52"
          ]
        },
        "id": "FgDTfIYcfRWM",
        "outputId": "c8f31586-8a5b-44c6-ca1f-26b3f6e76c32"
      },
      "execution_count": null,
      "outputs": [
        {
          "output_type": "stream",
          "name": "stderr",
          "text": [
            "WARNING:datasets.builder:Found cached dataset csv (/root/.cache/huggingface/datasets/MetroCat___csv/MetroCat--HEBREW-MIL-CLEAN-e6943c888a97b4e3/0.0.0/6954658bab30a358235fa864b05cf819af0e179325c740e4bc853bcc7ec513e1)\n"
          ]
        },
        {
          "output_type": "display_data",
          "data": {
            "text/plain": [
              "  0%|          | 0/1 [00:00<?, ?it/s]"
            ],
            "application/vnd.jupyter.widget-view+json": {
              "version_major": 2,
              "version_minor": 0,
              "model_id": "3a1bb3d7ec364f4283af149d540ed711"
            }
          },
          "metadata": {}
        }
      ]
    },
    {
      "cell_type": "code",
      "source": [
        "my_df = pd.DataFrame(dataset).loc[pd.DataFrame(dataset)['context'].map(lambda x : len(x)>0)].iloc[2:]"
      ],
      "metadata": {
        "id": "130mv9BjfRY3"
      },
      "execution_count": null,
      "outputs": []
    },
    {
      "cell_type": "code",
      "source": [
        "tokenizer"
      ],
      "metadata": {
        "colab": {
          "base_uri": "https://localhost:8080/"
        },
        "id": "J4Jzg-2TgnvC",
        "outputId": "8e3cee5d-5990-47ad-e615-d224ab5ebd32"
      },
      "execution_count": null,
      "outputs": [
        {
          "output_type": "execute_result",
          "data": {
            "text/plain": [
              "BertTokenizerFast(name_or_path='imvladikon/alephbertgimmel-small-128', vocab_size=128000, model_max_length=1000000000000000019884624838656, is_fast=True, padding_side='right', truncation_side='right', special_tokens={'unk_token': '[UNK]', 'sep_token': '[SEP]', 'pad_token': '[PAD]', 'cls_token': '[CLS]', 'mask_token': '[MASK]'}, clean_up_tokenization_spaces=True)"
            ]
          },
          "metadata": {},
          "execution_count": 57
        }
      ]
    },
    {
      "cell_type": "code",
      "source": [
        "old_n_tokens = my_df['context'].map(lambda x : len(tokenizer.tokenize(x))).sum()"
      ],
      "metadata": {
        "colab": {
          "base_uri": "https://localhost:8080/",
          "height": 364
        },
        "id": "kZuG3xvarpmi",
        "outputId": "5f453016-c428-4faf-c8b4-e8eb12403641"
      },
      "execution_count": null,
      "outputs": [
        {
          "output_type": "error",
          "ename": "KeyboardInterrupt",
          "evalue": "ignored",
          "traceback": [
            "\u001b[0;31m---------------------------------------------------------------------------\u001b[0m",
            "\u001b[0;31mKeyboardInterrupt\u001b[0m                         Traceback (most recent call last)",
            "\u001b[0;32m<ipython-input-49-3ed2c6d62e2e>\u001b[0m in \u001b[0;36m<cell line: 1>\u001b[0;34m()\u001b[0m\n\u001b[0;32m----> 1\u001b[0;31m \u001b[0mold_n_tokens\u001b[0m \u001b[0;34m=\u001b[0m \u001b[0mmy_df\u001b[0m\u001b[0;34m[\u001b[0m\u001b[0;34m'context'\u001b[0m\u001b[0;34m]\u001b[0m\u001b[0;34m.\u001b[0m\u001b[0mmap\u001b[0m\u001b[0;34m(\u001b[0m\u001b[0;32mlambda\u001b[0m \u001b[0mx\u001b[0m \u001b[0;34m:\u001b[0m \u001b[0mlen\u001b[0m\u001b[0;34m(\u001b[0m\u001b[0mtokenizer\u001b[0m\u001b[0;34m.\u001b[0m\u001b[0mtokenize\u001b[0m\u001b[0;34m(\u001b[0m\u001b[0mx\u001b[0m\u001b[0;34m)\u001b[0m\u001b[0;34m)\u001b[0m\u001b[0;34m)\u001b[0m\u001b[0;34m.\u001b[0m\u001b[0msum\u001b[0m\u001b[0;34m(\u001b[0m\u001b[0;34m)\u001b[0m\u001b[0;34m\u001b[0m\u001b[0;34m\u001b[0m\u001b[0m\n\u001b[0m",
            "\u001b[0;32m/usr/local/lib/python3.10/dist-packages/pandas/core/series.py\u001b[0m in \u001b[0;36mmap\u001b[0;34m(self, arg, na_action)\u001b[0m\n\u001b[1;32m   4537\u001b[0m         \u001b[0mdtype\u001b[0m\u001b[0;34m:\u001b[0m \u001b[0mobject\u001b[0m\u001b[0;34m\u001b[0m\u001b[0;34m\u001b[0m\u001b[0m\n\u001b[1;32m   4538\u001b[0m         \"\"\"\n\u001b[0;32m-> 4539\u001b[0;31m         \u001b[0mnew_values\u001b[0m \u001b[0;34m=\u001b[0m \u001b[0mself\u001b[0m\u001b[0;34m.\u001b[0m\u001b[0m_map_values\u001b[0m\u001b[0;34m(\u001b[0m\u001b[0marg\u001b[0m\u001b[0;34m,\u001b[0m \u001b[0mna_action\u001b[0m\u001b[0;34m=\u001b[0m\u001b[0mna_action\u001b[0m\u001b[0;34m)\u001b[0m\u001b[0;34m\u001b[0m\u001b[0;34m\u001b[0m\u001b[0m\n\u001b[0m\u001b[1;32m   4540\u001b[0m         return self._constructor(new_values, index=self.index).__finalize__(\n\u001b[1;32m   4541\u001b[0m             \u001b[0mself\u001b[0m\u001b[0;34m,\u001b[0m \u001b[0mmethod\u001b[0m\u001b[0;34m=\u001b[0m\u001b[0;34m\"map\"\u001b[0m\u001b[0;34m\u001b[0m\u001b[0;34m\u001b[0m\u001b[0m\n",
            "\u001b[0;32m/usr/local/lib/python3.10/dist-packages/pandas/core/base.py\u001b[0m in \u001b[0;36m_map_values\u001b[0;34m(self, mapper, na_action)\u001b[0m\n\u001b[1;32m    888\u001b[0m \u001b[0;34m\u001b[0m\u001b[0m\n\u001b[1;32m    889\u001b[0m         \u001b[0;31m# mapper is a function\u001b[0m\u001b[0;34m\u001b[0m\u001b[0;34m\u001b[0m\u001b[0m\n\u001b[0;32m--> 890\u001b[0;31m         \u001b[0mnew_values\u001b[0m \u001b[0;34m=\u001b[0m \u001b[0mmap_f\u001b[0m\u001b[0;34m(\u001b[0m\u001b[0mvalues\u001b[0m\u001b[0;34m,\u001b[0m \u001b[0mmapper\u001b[0m\u001b[0;34m)\u001b[0m\u001b[0;34m\u001b[0m\u001b[0;34m\u001b[0m\u001b[0m\n\u001b[0m\u001b[1;32m    891\u001b[0m \u001b[0;34m\u001b[0m\u001b[0m\n\u001b[1;32m    892\u001b[0m         \u001b[0;32mreturn\u001b[0m \u001b[0mnew_values\u001b[0m\u001b[0;34m\u001b[0m\u001b[0;34m\u001b[0m\u001b[0m\n",
            "\u001b[0;32m/usr/local/lib/python3.10/dist-packages/pandas/_libs/lib.pyx\u001b[0m in \u001b[0;36mpandas._libs.lib.map_infer\u001b[0;34m()\u001b[0m\n",
            "\u001b[0;32m<ipython-input-49-3ed2c6d62e2e>\u001b[0m in \u001b[0;36m<lambda>\u001b[0;34m(x)\u001b[0m\n\u001b[0;32m----> 1\u001b[0;31m \u001b[0mold_n_tokens\u001b[0m \u001b[0;34m=\u001b[0m \u001b[0mmy_df\u001b[0m\u001b[0;34m[\u001b[0m\u001b[0;34m'context'\u001b[0m\u001b[0;34m]\u001b[0m\u001b[0;34m.\u001b[0m\u001b[0mmap\u001b[0m\u001b[0;34m(\u001b[0m\u001b[0;32mlambda\u001b[0m \u001b[0mx\u001b[0m \u001b[0;34m:\u001b[0m \u001b[0mlen\u001b[0m\u001b[0;34m(\u001b[0m\u001b[0mtokenizer\u001b[0m\u001b[0;34m.\u001b[0m\u001b[0mtokenize\u001b[0m\u001b[0;34m(\u001b[0m\u001b[0mx\u001b[0m\u001b[0;34m)\u001b[0m\u001b[0;34m)\u001b[0m\u001b[0;34m)\u001b[0m\u001b[0;34m.\u001b[0m\u001b[0msum\u001b[0m\u001b[0;34m(\u001b[0m\u001b[0;34m)\u001b[0m\u001b[0;34m\u001b[0m\u001b[0;34m\u001b[0m\u001b[0m\n\u001b[0m",
            "\u001b[0;32m/usr/local/lib/python3.10/dist-packages/transformers/tokenization_utils_fast.py\u001b[0m in \u001b[0;36mtokenize\u001b[0;34m(self, text, pair, add_special_tokens, **kwargs)\u001b[0m\n\u001b[1;32m    318\u001b[0m \u001b[0;34m\u001b[0m\u001b[0m\n\u001b[1;32m    319\u001b[0m     \u001b[0;32mdef\u001b[0m \u001b[0mtokenize\u001b[0m\u001b[0;34m(\u001b[0m\u001b[0mself\u001b[0m\u001b[0;34m,\u001b[0m \u001b[0mtext\u001b[0m\u001b[0;34m:\u001b[0m \u001b[0mstr\u001b[0m\u001b[0;34m,\u001b[0m \u001b[0mpair\u001b[0m\u001b[0;34m:\u001b[0m \u001b[0mOptional\u001b[0m\u001b[0;34m[\u001b[0m\u001b[0mstr\u001b[0m\u001b[0;34m]\u001b[0m \u001b[0;34m=\u001b[0m \u001b[0;32mNone\u001b[0m\u001b[0;34m,\u001b[0m \u001b[0madd_special_tokens\u001b[0m\u001b[0;34m:\u001b[0m \u001b[0mbool\u001b[0m \u001b[0;34m=\u001b[0m \u001b[0;32mFalse\u001b[0m\u001b[0;34m,\u001b[0m \u001b[0;34m**\u001b[0m\u001b[0mkwargs\u001b[0m\u001b[0;34m)\u001b[0m \u001b[0;34m->\u001b[0m \u001b[0mList\u001b[0m\u001b[0;34m[\u001b[0m\u001b[0mstr\u001b[0m\u001b[0;34m]\u001b[0m\u001b[0;34m:\u001b[0m\u001b[0;34m\u001b[0m\u001b[0;34m\u001b[0m\u001b[0m\n\u001b[0;32m--> 320\u001b[0;31m         \u001b[0;32mreturn\u001b[0m \u001b[0mself\u001b[0m\u001b[0;34m.\u001b[0m\u001b[0mencode_plus\u001b[0m\u001b[0;34m(\u001b[0m\u001b[0mtext\u001b[0m\u001b[0;34m=\u001b[0m\u001b[0mtext\u001b[0m\u001b[0;34m,\u001b[0m \u001b[0mtext_pair\u001b[0m\u001b[0;34m=\u001b[0m\u001b[0mpair\u001b[0m\u001b[0;34m,\u001b[0m \u001b[0madd_special_tokens\u001b[0m\u001b[0;34m=\u001b[0m\u001b[0madd_special_tokens\u001b[0m\u001b[0;34m,\u001b[0m \u001b[0;34m**\u001b[0m\u001b[0mkwargs\u001b[0m\u001b[0;34m)\u001b[0m\u001b[0;34m.\u001b[0m\u001b[0mtokens\u001b[0m\u001b[0;34m(\u001b[0m\u001b[0;34m)\u001b[0m\u001b[0;34m\u001b[0m\u001b[0;34m\u001b[0m\u001b[0m\n\u001b[0m\u001b[1;32m    321\u001b[0m \u001b[0;34m\u001b[0m\u001b[0m\n\u001b[1;32m    322\u001b[0m     def set_truncation_and_padding(\n",
            "\u001b[0;32m/usr/local/lib/python3.10/dist-packages/transformers/tokenization_utils_base.py\u001b[0m in \u001b[0;36mencode_plus\u001b[0;34m(self, text, text_pair, add_special_tokens, padding, truncation, max_length, stride, is_split_into_words, pad_to_multiple_of, return_tensors, return_token_type_ids, return_attention_mask, return_overflowing_tokens, return_special_tokens_mask, return_offsets_mapping, return_length, verbose, **kwargs)\u001b[0m\n\u001b[1;32m   2715\u001b[0m         )\n\u001b[1;32m   2716\u001b[0m \u001b[0;34m\u001b[0m\u001b[0m\n\u001b[0;32m-> 2717\u001b[0;31m         return self._encode_plus(\n\u001b[0m\u001b[1;32m   2718\u001b[0m             \u001b[0mtext\u001b[0m\u001b[0;34m=\u001b[0m\u001b[0mtext\u001b[0m\u001b[0;34m,\u001b[0m\u001b[0;34m\u001b[0m\u001b[0;34m\u001b[0m\u001b[0m\n\u001b[1;32m   2719\u001b[0m             \u001b[0mtext_pair\u001b[0m\u001b[0;34m=\u001b[0m\u001b[0mtext_pair\u001b[0m\u001b[0;34m,\u001b[0m\u001b[0;34m\u001b[0m\u001b[0;34m\u001b[0m\u001b[0m\n",
            "\u001b[0;32m/usr/local/lib/python3.10/dist-packages/transformers/tokenization_utils_fast.py\u001b[0m in \u001b[0;36m_encode_plus\u001b[0;34m(self, text, text_pair, add_special_tokens, padding_strategy, truncation_strategy, max_length, stride, is_split_into_words, pad_to_multiple_of, return_tensors, return_token_type_ids, return_attention_mask, return_overflowing_tokens, return_special_tokens_mask, return_offsets_mapping, return_length, verbose, **kwargs)\u001b[0m\n\u001b[1;32m    498\u001b[0m     ) -> BatchEncoding:\n\u001b[1;32m    499\u001b[0m         \u001b[0mbatched_input\u001b[0m \u001b[0;34m=\u001b[0m \u001b[0;34m[\u001b[0m\u001b[0;34m(\u001b[0m\u001b[0mtext\u001b[0m\u001b[0;34m,\u001b[0m \u001b[0mtext_pair\u001b[0m\u001b[0;34m)\u001b[0m\u001b[0;34m]\u001b[0m \u001b[0;32mif\u001b[0m \u001b[0mtext_pair\u001b[0m \u001b[0;32melse\u001b[0m \u001b[0;34m[\u001b[0m\u001b[0mtext\u001b[0m\u001b[0;34m]\u001b[0m\u001b[0;34m\u001b[0m\u001b[0;34m\u001b[0m\u001b[0m\n\u001b[0;32m--> 500\u001b[0;31m         batched_output = self._batch_encode_plus(\n\u001b[0m\u001b[1;32m    501\u001b[0m             \u001b[0mbatched_input\u001b[0m\u001b[0;34m,\u001b[0m\u001b[0;34m\u001b[0m\u001b[0;34m\u001b[0m\u001b[0m\n\u001b[1;32m    502\u001b[0m             \u001b[0mis_split_into_words\u001b[0m\u001b[0;34m=\u001b[0m\u001b[0mis_split_into_words\u001b[0m\u001b[0;34m,\u001b[0m\u001b[0;34m\u001b[0m\u001b[0;34m\u001b[0m\u001b[0m\n",
            "\u001b[0;32m/usr/local/lib/python3.10/dist-packages/transformers/tokenization_utils_fast.py\u001b[0m in \u001b[0;36m_batch_encode_plus\u001b[0;34m(self, batch_text_or_text_pairs, add_special_tokens, padding_strategy, truncation_strategy, max_length, stride, is_split_into_words, pad_to_multiple_of, return_tensors, return_token_type_ids, return_attention_mask, return_overflowing_tokens, return_special_tokens_mask, return_offsets_mapping, return_length, verbose)\u001b[0m\n\u001b[1;32m    426\u001b[0m         )\n\u001b[1;32m    427\u001b[0m \u001b[0;34m\u001b[0m\u001b[0m\n\u001b[0;32m--> 428\u001b[0;31m         encodings = self._tokenizer.encode_batch(\n\u001b[0m\u001b[1;32m    429\u001b[0m             \u001b[0mbatch_text_or_text_pairs\u001b[0m\u001b[0;34m,\u001b[0m\u001b[0;34m\u001b[0m\u001b[0;34m\u001b[0m\u001b[0m\n\u001b[1;32m    430\u001b[0m             \u001b[0madd_special_tokens\u001b[0m\u001b[0;34m=\u001b[0m\u001b[0madd_special_tokens\u001b[0m\u001b[0;34m,\u001b[0m\u001b[0;34m\u001b[0m\u001b[0;34m\u001b[0m\u001b[0m\n",
            "\u001b[0;31mKeyboardInterrupt\u001b[0m: "
          ]
        }
      ]
    },
    {
      "cell_type": "code",
      "source": [
        "new_vocab  = pd.read_csv('vocab.csv')['vocab'].values.tolist()"
      ],
      "metadata": {
        "id": "0QowLL_5gNSI"
      },
      "execution_count": null,
      "outputs": []
    },
    {
      "cell_type": "code",
      "source": [
        "' '.join(tokenizer.tokenize(my_df['context'].iloc[0]))"
      ],
      "metadata": {
        "colab": {
          "base_uri": "https://localhost:8080/",
          "height": 192
        },
        "id": "NSgOyxxU392S",
        "outputId": "aaa20d85-a083-4bd1-8fae-8f8eece5c6af"
      },
      "execution_count": null,
      "outputs": [
        {
          "output_type": "execute_result",
          "data": {
            "text/plain": [
              "'בל ##מ \" ס 1 . 010 ##1 פקודות מטכ \" ל , 51 אב ##ג ##15 1 פרק משנה ##5 כללי 1 . 010 ##1 פרסומי מזכירות הפיקוד העליון תוקף סעיף 5 מה - 55 יולי 022 ##1 סוגי הפרסומים 5 . מזכירות הפיקוד העליון עורכת , מוציאה לאור ומפ ##יצה את פרסומי הפיקוד העליון והמט ##ה הכללי הר \" מ א . הוראות הפיקוד העליון . ב . פקודות המטה הכללי . ג . חוזר ##י מזכירות הפיקוד העליון . תחולה 0 . הוראות הפיקוד העליון - הוראות הפיקוד העליון , במהדורת ##ן הנוכחית , נכנסו לתוק ##פן ביום 51 ביולי 15 . 3 . פקודות המטה הכללי - פקודות המטה הכללי ( להלן : פקודות מטכ \" ל ) נכנסו לתוק ##פן , במהדורת ##ן הנוכחית , בתאריכים הר \" מ : - א . כרך א \\' ב - 5 במרס ##11 . ב . כרכ ##י ב \\' ( ארגון ופרט ב - 5 באפר ##50 . ג . כרך ג ב - 5 באפר ##56 . ד . נספחים ב - 5 באפר ##53 . תוקף 4 . תוקף כל הוראת פיקוד עליון , פקודת מטכ \" ל או חלק מהן - מהתא ##ריך המצוין בראש העמוד , ראש ההוראה או הפקודה , אלא אם כן נכתב אחרת בהוראה או בפקודה . 1 . ההוראות או הפקודות נשארות בתוקף כל עוד לא מתפרסם עדכון , המשנה אותן או מבטל ##ן 5 . חוזר ##י מזכירות הפיקוד העליון ( להלן : חוזר ##י מפ \" ע - א . תחולת תוקף - מיום פרסומם , אלא אם כן נכתב אחרת בחוזר , לגבי כולו או חלק ממנו . ב . סיום תוקף - 5 ) חוזר ##י מפ \" ע יחד ##לו להיות בתוקף לאחר שנה מיום פרסומם , אלא אם כן נקבע בהם , לגבי כל אחת מהוראות ##יהם , מועד מוקדם יותר . 0 ) הוראת הפיקוד העליון , פקודת מטכ \" ל או עד ##כונן , אשר פורסם באופן זמני בחוזר מפ \" ע ולאחר מכן כתיק ##ון להפ \" ע או פ \" מ - עדכון הכרך מבטל את תוקף הפרסום הזמני בחוזר מפ \" ע . תוקף סעיף 1 מה - 55 יולי 022 ##1 פרסומם של הוראות הפיקוד העליון , פקודות המטה הכללי וחוזר ##י מפ \" ע 1 . מפ \" ע תפרסם עדכונים להוראות הפיקוד העליון , לפקודות המטה הכללי ולח ##וזר ##י מפ \" ע , לרבות עדכונים שנעשו בנוהל מקוצר , באמצעות הצה \" לנט , וזאת תוך פרק זמן שלא יעלה על חודשיים מסיום סבב החתי ##מות . כמו כן , תודיע מפ \" ע על פרסום העדכונים לכל מפקדי היחידות . בל ##מ \" ס 1 . 010 ##1 פקודות מטכ \" ל , 51 אב ##ג ##15 בל ##מ \" ס 0 תוקף סעיפים 6 עד ##53 מה - 03 באוגוסט 022 ##1 6 . תוקפו של חוזר מפ \" ע יצוין במסגרתו או במסגרת דברי ההסבר אליו , בהתאם לאמור בסעיף ##5 לעיל סוג הביטחון של הוראות הפיקוד העליון , פקודות המטה הכללי וחוזר ##י מפ \" ע 9 . הוראות הפיקוד העליון , פקודות המטה הכללי וחוזר ##י מפ \" ע ייכ ##תב ##ו ויס ##ווג ##ו בסוג ביטחון \" בל ##מ \" ס \" , אלא אם יש טעם ביטחוני לקבוע סוג ביטחון גבוה מזה , אשר ייקבע במסגרת עד ##כו ##נם . פרסומם של הוראות הפיקוד העליון , פקודות המטה הכללי וחוזר ##י מפ \" ע בציבור 52 . הוראות הפיקוד העליון , פקודות המטה הכללי וחוזר ##י מפ \" ע , שס ##וגם הביטחוני הוא \" בל ##מ \" ס \" , יפורסמו בציבור על ידי אמ \" ץ - חטיבת דו \" ץ , באמצע ##ו ת אתר צה \" ל באינטרנט ובכל דרך אחרת . אמ \" ץ - חטיבת דו \" ץ אחראית לפרסם את הנוסח ##ים העדכניים לפקודות האמורות , באמצעי שבו הן פורסמו , בתוך חודש מיום פרסומ ##ן לפי סעיף 1 לעיל 55 . סתירה בין נוסח ##ים א . כשיש סתירה בין הנוסח אשר פרסמה מפ \" ע , כאמור בסעיף 1 לעיל , לבין הנוסח שפרסמה אמ \" ץ - חטיבת דו \" ץ בציבור - יגבר הנוסח שפרסמה מפ \" ע . ב . תוכן סעיף משנה א לעיל יפורסם על ידי אמ \" ץ - חטיבת דו \" ץ בצמוד לפרסומים , כאמור בסעיף 52 לעיל זכות העיון בפק ##ודות הצבא 50 . כל חייל בשירות סדיר ובשירות מילואים פעיל וכן כל עובד צה \" ל , רשאים לעיין בכל פקודות הצבא , וכן בפק ##ודות הקבע ובפ ##קוד ##ות השגרה של יחידת ##ם - הכול בכפוף למגבלות ביטחון המידע . קצין השליש ##ות היחיד ##תי יוו ##דא קיום אפשרות עיון נאותה בנוסח ##ים העדכניים של הפקודות האמורות לחיילי היחידה ולע ##ובדיה . 53 . עדכונים לפקודות הצבא אשר נתקבלו ביחידה , יובאו לעיו ##נו של מפקד היחידה . מפקד היחידה או מפקד שהוא הסמיך לעניין זה , יע ##יין בעד ##כונים ויס ##ביר לפקוד ##יו את התיקונים המחייבים שינויים בפעילות ##ם .'"
            ],
            "application/vnd.google.colaboratory.intrinsic+json": {
              "type": "string"
            }
          },
          "metadata": {},
          "execution_count": 59
        }
      ]
    },
    {
      "cell_type": "code",
      "source": [
        "# Let's increase the vocabulary of Bert model and tokenizer\n",
        "tokenizer.add_tokens(new_vocab)"
      ],
      "metadata": {
        "colab": {
          "base_uri": "https://localhost:8080/"
        },
        "id": "9PmDHixsfdsl",
        "outputId": "44e1f6a7-53d2-47d6-cb24-4c41ee399bf2"
      },
      "execution_count": null,
      "outputs": [
        {
          "output_type": "execute_result",
          "data": {
            "text/plain": [
              "10000"
            ]
          },
          "metadata": {},
          "execution_count": 60
        }
      ]
    },
    {
      "cell_type": "code",
      "source": [
        "' '.join(tokenizer.tokenize(my_df['context'].iloc[0]))"
      ],
      "metadata": {
        "colab": {
          "base_uri": "https://localhost:8080/",
          "height": 192
        },
        "id": "AOrQr0JC3_Cg",
        "outputId": "2bea63e8-20b1-46fc-b27e-d1300e1c3b75"
      },
      "execution_count": null,
      "outputs": [
        {
          "output_type": "execute_result",
          "data": {
            "text/plain": [
              "'בלמ \" ס 1 . 0101 פקודו ת מטכ \" ל , 51 אב ##ג ##15 1 פרק משנה ##5 כל לי 1 . 0101 פרסו מי מזכירו ת הפיקוד העליו ן תוקף סעיף 5 מה - 55 יולי 022 ##1 סוגי הפרס ##ו מי ם 5 . מזכירו ת הפיקוד העליו ן עו רכת , מו ציא ה לא ור ומפ ##יצה את פרסו מי הפיקוד העליו ן והמטה ה כל לי הר \" מ א . הוראות הפיקוד העליו ן . ב . פקודו ת המטה ה כל לי . ג . חוזר ##י מזכירו ת הפיקוד העליו ן . תחו לה 0 . הוראות הפיקוד העליו ן - הוראות הפיקוד העליו ן , במהדורת ##ן הנוכחית , נכנסו לתוק ##פן ביום 51 ביולי 15 . 3 . פקודו ת המטה ה כל לי - פקודו ת המטה ה כל לי ( להלן : פקודו ת מטכ \" ל ) נכנסו לתוק ##פן , במהדורת ##ן הנוכחית , בתא ריכים הר \" מ : - א . כרך א \\' ב - 5 במרס ##11 . ב . כר כי ב \\' ( ארגו ן ופרט ב - 5 באפר ##50 . ג . כרך ג ב - 5 באפר ##56 . ד . נספחים ב - 5 באפר ##53 . תוקף 4 . תוקף כל הו ראת פיקוד על יון , פקודת מטכ \" ל או חלק מהן - מהתא ריך המ צוי ן בראש העמוד , ראש ההוראה או הפקוד ה , אל א אם כן נכתב א חרת בהוראה או בפקודה . 1 . ההוראות או הפקוד ות נשארות בתוקף כל עוד לא מתפרסם עד כון , המשנה אותן או מבטל ##ן 5 . חוזר ##י מזכירו ת הפיקוד העליו ן ( להלן : חוזר ##י מפ \" ע - א . תחו לת תוקף - מי ום פרסומם , אל א אם כן נכתב א חרת בחוזר , לגבי כו לו או חלק ממנו . ב . סיום תוקף - 5 ) חוזר ##י מפ \" ע יחדל ו להיות בתוקף לא חר שנה מי ום פרסומם , אל א אם כן נקבע בהם , לגבי כל אחת מהור ##או תיהם , מועד מוקדם יותר . 0 ) הו ראת הפיקוד העליו ן , פקודת מטכ \" ל או עד ##כונן , אשר פורסם באופן זמני בחוזר מפ \" ע ולא חר מכן כתיק ##ון להפ \" ע או פ \" מ - עד כון הכרך מבטל את תוקף הפר סום הזמ ני בחוזר מפ \" ע . תוקף סעיף 1 מה - 55 יולי 022 ##1 פרסומם של הוראות הפיקוד העליו ן , פקודו ת המטה ה כל לי וחוזר ##י מפ \" ע 1 . מפ \" ע תפרסם עדכונים להוראות הפיקוד העליו ן , לפקודו ת המטה ה כל לי ולח ##וזר ##י מפ \" ע , לרבות עדכונים שנעשו בנוהל מקוצר , ב אמצעות הצה \" לנט , וז את תוך פרק זמן של א י על ה על חוד שיים מסיום סבב החתימות . כמו כן , תודיע מפ \" ע על פר סום העדכונים ל כל מפקדי היחי דות . בלמ \" ס 1 . 0101 פקודו ת מטכ \" ל , 51 אב ##ג ##15 בלמ \" ס 0 תוקף סעיפים 6 עד ##53 מה - 03 באוגוסט 022 ##1 6 . תוקפו של חוזר מפ \" ע יצוי ן במס גרת ו או במס גרת דברי ההסבר אל יו , בה תאם לא מור בסעיף ##5 לעיל סוג הביטחו ן של הוראות הפיקוד העליו ן , פקודו ת המטה ה כל לי וחוזר ##י מפ \" ע 9 . הוראות הפיקוד העליו ן , פקודו ת המטה ה כל לי וחוזר ##י מפ \" ע ייכ ##תב ##ו ויס ##ווג ##ו בסוג ביטחו ן \" בלמ \" ס \" , אל א אם יש טעם ביטחו ני ל קבו ע סוג ביטחו ן גבוה מזה , אשר ייקבע במס גרת עד ##כ ונם . פרסומם של הוראות הפיקוד העליו ן , פקודו ת המטה ה כל לי וחוזר ##י מפ \" ע בציבור 52 . הוראות הפיקוד העליו ן , פקודו ת המטה ה כל לי וחוזר ##י מפ \" ע , שס ##ו גם הביטחו ני הוא \" בלמ \" ס \" , יפו רסמ ו בציבור על ידי אמ \" ץ - חטיבת דו \" ץ , באמצע ##ו ת את ר צה \" ל ב אי נטר ##נט וב כל דרך א חרת . אמ \" ץ - חטיבת דו \" ץ אחר אי ת לפרסם את הנוסח ##ים העדכניים לפקודו ת האמורות , באמ צעי שבו הן פו רסמ ו , בתוך חודש מי ום פרסומ ##ן לפי סעיף 1 לעיל 55 . סתירה בין נוסח ##ים א . כשיש סתירה בין הנוסח אשר פ רסמ ה מפ \" ע , כאמור בסעיף 1 לעיל , לבין הנוסח שפ רסמ ה אמ \" ץ - חטיבת דו \" ץ בציבור - יגבר הנוסח שפ רסמ ה מפ \" ע . ב . תוכן סעיף משנה א לעיל יפורסם על ידי אמ \" ץ - חטיבת דו \" ץ בצמ וד לפרס ##ו מי ם , כאמור בסעיף 52 לעיל זכות העיון בפקודות הצבא 50 . כל חייל בש ירות סדיר ובש ירות מילואי ם פעי ל וכן כל עובד צה \" ל , רש אי ם לעיין ב כל פקודו ת הצבא , וכן בפקודות הקבע ו בפקודות השגרה של יחידתם - הכול בכפוף למג ##ב לו ת ביטחו ן ה מי דע . קצי ן השלישות היחידתי יוודא קיום אפשר ות עיון נאותה בנוסח ##ים העדכניים של הפקוד ות האמורות לחיילי היחי דה ולע ##ובדיה . 53 . עדכונים לפקודו ת הצבא אשר נתק ##ב לו ביחידה , יובאו לעיו ##נו של מפקד היחי דה . מפקד היחי דה או מפקד ש הוא הס מי ך לעניין זה , יעי ין בעד ##כונים ויס ##ביר לפקודיו את התיקונים ה מחי יבי ##ם שי נויים בפעילותם .'"
            ],
            "application/vnd.google.colaboratory.intrinsic+json": {
              "type": "string"
            }
          },
          "metadata": {},
          "execution_count": 61
        }
      ]
    },
    {
      "cell_type": "code",
      "source": [
        "new_n_tokens = my_df['context'].map(lambda x : len(tokenizer.tokenize(x))).sum()"
      ],
      "metadata": {
        "id": "_Toh8WStrK-x"
      },
      "execution_count": null,
      "outputs": []
    },
    {
      "cell_type": "code",
      "source": [
        "print(old_n_tokens)\n"
      ],
      "metadata": {
        "colab": {
          "base_uri": "https://localhost:8080/"
        },
        "id": "wwl4JZvRtlDY",
        "outputId": "9abf7e79-acac-47b3-aa25-2921670cfccb"
      },
      "execution_count": null,
      "outputs": [
        {
          "output_type": "stream",
          "name": "stdout",
          "text": [
            "28438319\n"
          ]
        }
      ]
    },
    {
      "cell_type": "code",
      "source": [
        "print(new_n_tokens)"
      ],
      "metadata": {
        "colab": {
          "base_uri": "https://localhost:8080/"
        },
        "id": "4cHJBcl7fdvG",
        "outputId": "ec929aab-e183-4864-975f-f71a305bf61e"
      },
      "execution_count": null,
      "outputs": [
        {
          "output_type": "stream",
          "name": "stdout",
          "text": [
            "33269573\n"
          ]
        }
      ]
    },
    {
      "cell_type": "code",
      "source": [],
      "metadata": {
        "id": "sWW5QPQt33Ux"
      },
      "execution_count": null,
      "outputs": []
    },
    {
      "cell_type": "code",
      "source": [
        "''.join(tokenizer.tokenize(my_df['context'].iloc[0]))"
      ],
      "metadata": {
        "colab": {
          "base_uri": "https://localhost:8080/",
          "height": 226
        },
        "id": "RbaTeffT2csi",
        "outputId": "be0dd75a-481c-44a3-a5fb-7891ee355933"
      },
      "execution_count": null,
      "outputs": [
        {
          "output_type": "execute_result",
          "data": {
            "text/plain": [
              "'בלמ\"ס1.0101פקודותמטכ\"ל,51אב##ג##151פרקמשנה##5כללי1.0101פרסומימזכירותהפיקודהעליוןתוקףסעיף5מה-55יולי022##1סוגיהפרס##ומים5.מזכירותהפיקודהעליוןעורכת,מוציאהלאורומפ##יצהאתפרסומיהפיקודהעליוןוהמטההכלליהר\"מא.הוראותהפיקודהעליון.ב.פקודותהמטההכללי.ג.חוזר##ימזכירותהפיקודהעליון.תחולה0.הוראותהפיקודהעליון-הוראותהפיקודהעליון,במהדורת##ןהנוכחית,נכנסולתוק##פןביום51ביולי15.3.פקודותהמטההכללי-פקודותהמטההכללי(להלן:פקודותמטכ\"ל)נכנסולתוק##פן,במהדורת##ןהנוכחית,בתאריכיםהר\"מ:-א.כרךא\\'ב-5במרס##11.ב.כרכיב\\'(ארגוןופרטב-5באפר##50.ג.כרךגב-5באפר##56.ד.נספחיםב-5באפר##53.תוקף4.תוקףכלהוראתפיקודעליון,פקודתמטכ\"לאוחלקמהן-מהתאריךהמצויןבראשהעמוד,ראשההוראהאוהפקודה,אלאאםכןנכתבאחרתבהוראהאובפקודה.1.ההוראותאוהפקודותנשארותבתוקףכלעודלאמתפרסםעדכון,המשנהאותןאומבטל##ן5.חוזר##ימזכירותהפיקודהעליון(להלן:חוזר##ימפ\"ע-א.תחולתתוקף-מיוםפרסומם,אלאאםכןנכתבאחרתבחוזר,לגביכולואוחלקממנו.ב.סיוםתוקף-5)חוזר##ימפ\"עיחדלולהיותבתוקףלאחרשנהמיוםפרסומם,אלאאםכןנקבעבהם,לגביכלאחתמהור##אותיהם,מועדמוקדםיותר.0)הוראתהפיקודהעליון,פקודתמטכ\"לאועד##כונן,אשרפורסםבאופןזמניבחוזרמפ\"עולאחרמכןכתיק##וןלהפ\"עאופ\"מ-עדכוןהכרךמבטלאתתוקףהפרסוםהזמניבחוזרמפ\"ע.תוקףסעיף1מה-55יולי022##1פרסומםשלהוראותהפיקודהעליון,פקודותהמטההכלליוחוזר##ימפ\"ע1.מפ\"עתפרסםעדכוניםלהוראותהפיקודהעליון,לפקודותהמטההכלליולח##וזר##ימפ\"ע,לרבותעדכוניםשנעשובנוהלמקוצר,באמצעותהצה\"לנט,וזאתתוךפרקזמןשלאיעלהעלחודשייםמסיוםסבבהחתימות.כמוכן,תודיעמפ\"עעלפרסוםהעדכוניםלכלמפקדיהיחידות.בלמ\"ס1.0101פקודותמטכ\"ל,51אב##ג##15בלמ\"ס0תוקףסעיפים6עד##53מה-03באוגוסט022##16.תוקפושלחוזרמפ\"עיצויןבמסגרתואובמסגרתדבריההסבראליו,בהתאםלאמורבסעיף##5לעילסוגהביטחוןשלהוראותהפיקודהעליון,פקודותהמטההכלליוחוזר##ימפ\"ע9.הוראותהפיקודהעליון,פקודותהמטההכלליוחוזר##ימפ\"עייכ##תב##וויס##ווג##ובסוגביטחון\"בלמ\"ס\",אלאאםישטעםביטחונילקבועסוגביטחוןגבוהמזה,אשרייקבעבמסגרתעד##כונם.פרסומםשלהוראותהפיקודהעליון,פקודותהמטההכלליוחוזר##ימפ\"עבציבור52.הוראותהפיקודהעליון,פקודותהמטההכלליוחוזר##ימפ\"ע,שס##וגםהביטחוניהוא\"בלמ\"ס\",יפורסמובציבורעלידיאמ\"ץ-חטיבתדו\"ץ,באמצע##ותאתרצה\"לבאינטר##נטובכלדרךאחרת.אמ\"ץ-חטיבתדו\"ץאחראיתלפרסםאתהנוסח##יםהעדכנייםלפקודותהאמורות,באמצעישבוהןפורסמו,בתוךחודשמיוםפרסומ##ןלפיסעיף1לעיל55.סתירהביןנוסח##יםא.כשישסתירהביןהנוסחאשרפרסמהמפ\"ע,כאמורבסעיף1לעיל,לביןהנוסחשפרסמהאמ\"ץ-חטיבתדו\"ץבציבור-יגברהנוסחשפרסמהמפ\"ע.ב.תוכןסעיףמשנהאלעיליפורסםעלידיאמ\"ץ-חטיבתדו\"ץבצמודלפרס##ומים,כאמורבסעיף52לעילזכותהעיוןבפקודותהצבא50.כלחיילבשירותסדירובשירותמילואיםפעילוכןכלעובדצה\"ל,רשאיםלעייןבכלפקודותהצבא,וכןבפקודותהקבעובפקודותהשגרהשליחידתם-הכולבכפוףלמג##בלותביטחוןהמידע.קציןהשלישותהיחידתייוודאקיוםאפשרותעיוןנאותהבנוסח##יםהעדכנייםשלהפקודותהאמורותלחייליהיחידהולע##ובדיה.53.עדכוניםלפקודותהצבאאשרנתק##בלוביחידה,יובאולעיו##נושלמפקדהיחידה.מפקדהיחידהאומפקדשהואהסמיךלענייןזה,יעייןבעד##כוניםויס##בירלפקודיואתהתיקוניםהמחייבי##םשינוייםבפעילותם.'"
            ],
            "application/vnd.google.colaboratory.intrinsic+json": {
              "type": "string"
            }
          },
          "metadata": {},
          "execution_count": 44
        }
      ]
    },
    {
      "cell_type": "code",
      "source": [],
      "metadata": {
        "id": "T5pOxpGO2u6J"
      },
      "execution_count": null,
      "outputs": []
    }
  ]
}