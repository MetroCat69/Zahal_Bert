{
  "nbformat": 4,
  "nbformat_minor": 0,
  "metadata": {
    "colab": {
      "provenance": []
    },
    "kernelspec": {
      "name": "python3",
      "display_name": "Python 3"
    },
    "language_info": {
      "name": "python"
    },
    "widgets": {
      "application/vnd.jupyter.widget-state+json": {
        "829b1da8c98a494cab8a542edd040b1b": {
          "model_module": "@jupyter-widgets/controls",
          "model_name": "HBoxModel",
          "model_module_version": "1.5.0",
          "state": {
            "_dom_classes": [],
            "_model_module": "@jupyter-widgets/controls",
            "_model_module_version": "1.5.0",
            "_model_name": "HBoxModel",
            "_view_count": null,
            "_view_module": "@jupyter-widgets/controls",
            "_view_module_version": "1.5.0",
            "_view_name": "HBoxView",
            "box_style": "",
            "children": [
              "IPY_MODEL_da1ce4db106846d6b57d992e607061c6",
              "IPY_MODEL_3ecc11bb254441609758d34408f793f7",
              "IPY_MODEL_71869005bb4d4f16b902f71df777e9f3"
            ],
            "layout": "IPY_MODEL_9c0f38c73f364629ac108339c883a85c"
          }
        },
        "da1ce4db106846d6b57d992e607061c6": {
          "model_module": "@jupyter-widgets/controls",
          "model_name": "HTMLModel",
          "model_module_version": "1.5.0",
          "state": {
            "_dom_classes": [],
            "_model_module": "@jupyter-widgets/controls",
            "_model_module_version": "1.5.0",
            "_model_name": "HTMLModel",
            "_view_count": null,
            "_view_module": "@jupyter-widgets/controls",
            "_view_module_version": "1.5.0",
            "_view_name": "HTMLView",
            "description": "",
            "description_tooltip": null,
            "layout": "IPY_MODEL_118b4d1246b74c83aa6bf15d75b4cc55",
            "placeholder": "​",
            "style": "IPY_MODEL_972099124bd94ee3b72b83a36bd3f468",
            "value": "Downloading readme: 100%"
          }
        },
        "3ecc11bb254441609758d34408f793f7": {
          "model_module": "@jupyter-widgets/controls",
          "model_name": "FloatProgressModel",
          "model_module_version": "1.5.0",
          "state": {
            "_dom_classes": [],
            "_model_module": "@jupyter-widgets/controls",
            "_model_module_version": "1.5.0",
            "_model_name": "FloatProgressModel",
            "_view_count": null,
            "_view_module": "@jupyter-widgets/controls",
            "_view_module_version": "1.5.0",
            "_view_name": "ProgressView",
            "bar_style": "success",
            "description": "",
            "description_tooltip": null,
            "layout": "IPY_MODEL_2cfad55a9156469a89d03448e045fea6",
            "max": 21,
            "min": 0,
            "orientation": "horizontal",
            "style": "IPY_MODEL_2d9799d7363a449a94200eb270776f96",
            "value": 21
          }
        },
        "71869005bb4d4f16b902f71df777e9f3": {
          "model_module": "@jupyter-widgets/controls",
          "model_name": "HTMLModel",
          "model_module_version": "1.5.0",
          "state": {
            "_dom_classes": [],
            "_model_module": "@jupyter-widgets/controls",
            "_model_module_version": "1.5.0",
            "_model_name": "HTMLModel",
            "_view_count": null,
            "_view_module": "@jupyter-widgets/controls",
            "_view_module_version": "1.5.0",
            "_view_name": "HTMLView",
            "description": "",
            "description_tooltip": null,
            "layout": "IPY_MODEL_4c8e4de15a4c472ba07ffb2ef0bc7c0a",
            "placeholder": "​",
            "style": "IPY_MODEL_5231e1cbc1604d119869f12d0d9ecea8",
            "value": " 21.0/21.0 [00:00&lt;00:00, 820B/s]"
          }
        },
        "9c0f38c73f364629ac108339c883a85c": {
          "model_module": "@jupyter-widgets/base",
          "model_name": "LayoutModel",
          "model_module_version": "1.2.0",
          "state": {
            "_model_module": "@jupyter-widgets/base",
            "_model_module_version": "1.2.0",
            "_model_name": "LayoutModel",
            "_view_count": null,
            "_view_module": "@jupyter-widgets/base",
            "_view_module_version": "1.2.0",
            "_view_name": "LayoutView",
            "align_content": null,
            "align_items": null,
            "align_self": null,
            "border": null,
            "bottom": null,
            "display": null,
            "flex": null,
            "flex_flow": null,
            "grid_area": null,
            "grid_auto_columns": null,
            "grid_auto_flow": null,
            "grid_auto_rows": null,
            "grid_column": null,
            "grid_gap": null,
            "grid_row": null,
            "grid_template_areas": null,
            "grid_template_columns": null,
            "grid_template_rows": null,
            "height": null,
            "justify_content": null,
            "justify_items": null,
            "left": null,
            "margin": null,
            "max_height": null,
            "max_width": null,
            "min_height": null,
            "min_width": null,
            "object_fit": null,
            "object_position": null,
            "order": null,
            "overflow": null,
            "overflow_x": null,
            "overflow_y": null,
            "padding": null,
            "right": null,
            "top": null,
            "visibility": null,
            "width": null
          }
        },
        "118b4d1246b74c83aa6bf15d75b4cc55": {
          "model_module": "@jupyter-widgets/base",
          "model_name": "LayoutModel",
          "model_module_version": "1.2.0",
          "state": {
            "_model_module": "@jupyter-widgets/base",
            "_model_module_version": "1.2.0",
            "_model_name": "LayoutModel",
            "_view_count": null,
            "_view_module": "@jupyter-widgets/base",
            "_view_module_version": "1.2.0",
            "_view_name": "LayoutView",
            "align_content": null,
            "align_items": null,
            "align_self": null,
            "border": null,
            "bottom": null,
            "display": null,
            "flex": null,
            "flex_flow": null,
            "grid_area": null,
            "grid_auto_columns": null,
            "grid_auto_flow": null,
            "grid_auto_rows": null,
            "grid_column": null,
            "grid_gap": null,
            "grid_row": null,
            "grid_template_areas": null,
            "grid_template_columns": null,
            "grid_template_rows": null,
            "height": null,
            "justify_content": null,
            "justify_items": null,
            "left": null,
            "margin": null,
            "max_height": null,
            "max_width": null,
            "min_height": null,
            "min_width": null,
            "object_fit": null,
            "object_position": null,
            "order": null,
            "overflow": null,
            "overflow_x": null,
            "overflow_y": null,
            "padding": null,
            "right": null,
            "top": null,
            "visibility": null,
            "width": null
          }
        },
        "972099124bd94ee3b72b83a36bd3f468": {
          "model_module": "@jupyter-widgets/controls",
          "model_name": "DescriptionStyleModel",
          "model_module_version": "1.5.0",
          "state": {
            "_model_module": "@jupyter-widgets/controls",
            "_model_module_version": "1.5.0",
            "_model_name": "DescriptionStyleModel",
            "_view_count": null,
            "_view_module": "@jupyter-widgets/base",
            "_view_module_version": "1.2.0",
            "_view_name": "StyleView",
            "description_width": ""
          }
        },
        "2cfad55a9156469a89d03448e045fea6": {
          "model_module": "@jupyter-widgets/base",
          "model_name": "LayoutModel",
          "model_module_version": "1.2.0",
          "state": {
            "_model_module": "@jupyter-widgets/base",
            "_model_module_version": "1.2.0",
            "_model_name": "LayoutModel",
            "_view_count": null,
            "_view_module": "@jupyter-widgets/base",
            "_view_module_version": "1.2.0",
            "_view_name": "LayoutView",
            "align_content": null,
            "align_items": null,
            "align_self": null,
            "border": null,
            "bottom": null,
            "display": null,
            "flex": null,
            "flex_flow": null,
            "grid_area": null,
            "grid_auto_columns": null,
            "grid_auto_flow": null,
            "grid_auto_rows": null,
            "grid_column": null,
            "grid_gap": null,
            "grid_row": null,
            "grid_template_areas": null,
            "grid_template_columns": null,
            "grid_template_rows": null,
            "height": null,
            "justify_content": null,
            "justify_items": null,
            "left": null,
            "margin": null,
            "max_height": null,
            "max_width": null,
            "min_height": null,
            "min_width": null,
            "object_fit": null,
            "object_position": null,
            "order": null,
            "overflow": null,
            "overflow_x": null,
            "overflow_y": null,
            "padding": null,
            "right": null,
            "top": null,
            "visibility": null,
            "width": null
          }
        },
        "2d9799d7363a449a94200eb270776f96": {
          "model_module": "@jupyter-widgets/controls",
          "model_name": "ProgressStyleModel",
          "model_module_version": "1.5.0",
          "state": {
            "_model_module": "@jupyter-widgets/controls",
            "_model_module_version": "1.5.0",
            "_model_name": "ProgressStyleModel",
            "_view_count": null,
            "_view_module": "@jupyter-widgets/base",
            "_view_module_version": "1.2.0",
            "_view_name": "StyleView",
            "bar_color": null,
            "description_width": ""
          }
        },
        "4c8e4de15a4c472ba07ffb2ef0bc7c0a": {
          "model_module": "@jupyter-widgets/base",
          "model_name": "LayoutModel",
          "model_module_version": "1.2.0",
          "state": {
            "_model_module": "@jupyter-widgets/base",
            "_model_module_version": "1.2.0",
            "_model_name": "LayoutModel",
            "_view_count": null,
            "_view_module": "@jupyter-widgets/base",
            "_view_module_version": "1.2.0",
            "_view_name": "LayoutView",
            "align_content": null,
            "align_items": null,
            "align_self": null,
            "border": null,
            "bottom": null,
            "display": null,
            "flex": null,
            "flex_flow": null,
            "grid_area": null,
            "grid_auto_columns": null,
            "grid_auto_flow": null,
            "grid_auto_rows": null,
            "grid_column": null,
            "grid_gap": null,
            "grid_row": null,
            "grid_template_areas": null,
            "grid_template_columns": null,
            "grid_template_rows": null,
            "height": null,
            "justify_content": null,
            "justify_items": null,
            "left": null,
            "margin": null,
            "max_height": null,
            "max_width": null,
            "min_height": null,
            "min_width": null,
            "object_fit": null,
            "object_position": null,
            "order": null,
            "overflow": null,
            "overflow_x": null,
            "overflow_y": null,
            "padding": null,
            "right": null,
            "top": null,
            "visibility": null,
            "width": null
          }
        },
        "5231e1cbc1604d119869f12d0d9ecea8": {
          "model_module": "@jupyter-widgets/controls",
          "model_name": "DescriptionStyleModel",
          "model_module_version": "1.5.0",
          "state": {
            "_model_module": "@jupyter-widgets/controls",
            "_model_module_version": "1.5.0",
            "_model_name": "DescriptionStyleModel",
            "_view_count": null,
            "_view_module": "@jupyter-widgets/base",
            "_view_module_version": "1.2.0",
            "_view_name": "StyleView",
            "description_width": ""
          }
        },
        "cc2488ed479144ca965ce0b297a88ce3": {
          "model_module": "@jupyter-widgets/controls",
          "model_name": "HBoxModel",
          "model_module_version": "1.5.0",
          "state": {
            "_dom_classes": [],
            "_model_module": "@jupyter-widgets/controls",
            "_model_module_version": "1.5.0",
            "_model_name": "HBoxModel",
            "_view_count": null,
            "_view_module": "@jupyter-widgets/controls",
            "_view_module_version": "1.5.0",
            "_view_name": "HBoxView",
            "box_style": "",
            "children": [
              "IPY_MODEL_c583603b32614495bcece3ba0bec2dc9",
              "IPY_MODEL_971ed2eb82b74a19a3a68597fb5dd434",
              "IPY_MODEL_87983b255b934dd799f3b321f10cc27d"
            ],
            "layout": "IPY_MODEL_beecb85546a14c1fa4b40a145948f02f"
          }
        },
        "c583603b32614495bcece3ba0bec2dc9": {
          "model_module": "@jupyter-widgets/controls",
          "model_name": "HTMLModel",
          "model_module_version": "1.5.0",
          "state": {
            "_dom_classes": [],
            "_model_module": "@jupyter-widgets/controls",
            "_model_module_version": "1.5.0",
            "_model_name": "HTMLModel",
            "_view_count": null,
            "_view_module": "@jupyter-widgets/controls",
            "_view_module_version": "1.5.0",
            "_view_name": "HTMLView",
            "description": "",
            "description_tooltip": null,
            "layout": "IPY_MODEL_c24d6e0e0af64020bacdc1bc277ef687",
            "placeholder": "​",
            "style": "IPY_MODEL_aebad2bcbf5443c5a2732f35c419e1ca",
            "value": "Downloading data files: 100%"
          }
        },
        "971ed2eb82b74a19a3a68597fb5dd434": {
          "model_module": "@jupyter-widgets/controls",
          "model_name": "FloatProgressModel",
          "model_module_version": "1.5.0",
          "state": {
            "_dom_classes": [],
            "_model_module": "@jupyter-widgets/controls",
            "_model_module_version": "1.5.0",
            "_model_name": "FloatProgressModel",
            "_view_count": null,
            "_view_module": "@jupyter-widgets/controls",
            "_view_module_version": "1.5.0",
            "_view_name": "ProgressView",
            "bar_style": "success",
            "description": "",
            "description_tooltip": null,
            "layout": "IPY_MODEL_1e3b1625bca64cff9a5f0951feccecb8",
            "max": 1,
            "min": 0,
            "orientation": "horizontal",
            "style": "IPY_MODEL_7fa68c6d3cc74a359910bbc54c2f6de6",
            "value": 1
          }
        },
        "87983b255b934dd799f3b321f10cc27d": {
          "model_module": "@jupyter-widgets/controls",
          "model_name": "HTMLModel",
          "model_module_version": "1.5.0",
          "state": {
            "_dom_classes": [],
            "_model_module": "@jupyter-widgets/controls",
            "_model_module_version": "1.5.0",
            "_model_name": "HTMLModel",
            "_view_count": null,
            "_view_module": "@jupyter-widgets/controls",
            "_view_module_version": "1.5.0",
            "_view_name": "HTMLView",
            "description": "",
            "description_tooltip": null,
            "layout": "IPY_MODEL_5db83c54b624435babd17da2b2131cde",
            "placeholder": "​",
            "style": "IPY_MODEL_4a7052ee7a70450ea95114efcab1c827",
            "value": " 1/1 [00:03&lt;00:00,  3.19s/it]"
          }
        },
        "beecb85546a14c1fa4b40a145948f02f": {
          "model_module": "@jupyter-widgets/base",
          "model_name": "LayoutModel",
          "model_module_version": "1.2.0",
          "state": {
            "_model_module": "@jupyter-widgets/base",
            "_model_module_version": "1.2.0",
            "_model_name": "LayoutModel",
            "_view_count": null,
            "_view_module": "@jupyter-widgets/base",
            "_view_module_version": "1.2.0",
            "_view_name": "LayoutView",
            "align_content": null,
            "align_items": null,
            "align_self": null,
            "border": null,
            "bottom": null,
            "display": null,
            "flex": null,
            "flex_flow": null,
            "grid_area": null,
            "grid_auto_columns": null,
            "grid_auto_flow": null,
            "grid_auto_rows": null,
            "grid_column": null,
            "grid_gap": null,
            "grid_row": null,
            "grid_template_areas": null,
            "grid_template_columns": null,
            "grid_template_rows": null,
            "height": null,
            "justify_content": null,
            "justify_items": null,
            "left": null,
            "margin": null,
            "max_height": null,
            "max_width": null,
            "min_height": null,
            "min_width": null,
            "object_fit": null,
            "object_position": null,
            "order": null,
            "overflow": null,
            "overflow_x": null,
            "overflow_y": null,
            "padding": null,
            "right": null,
            "top": null,
            "visibility": null,
            "width": null
          }
        },
        "c24d6e0e0af64020bacdc1bc277ef687": {
          "model_module": "@jupyter-widgets/base",
          "model_name": "LayoutModel",
          "model_module_version": "1.2.0",
          "state": {
            "_model_module": "@jupyter-widgets/base",
            "_model_module_version": "1.2.0",
            "_model_name": "LayoutModel",
            "_view_count": null,
            "_view_module": "@jupyter-widgets/base",
            "_view_module_version": "1.2.0",
            "_view_name": "LayoutView",
            "align_content": null,
            "align_items": null,
            "align_self": null,
            "border": null,
            "bottom": null,
            "display": null,
            "flex": null,
            "flex_flow": null,
            "grid_area": null,
            "grid_auto_columns": null,
            "grid_auto_flow": null,
            "grid_auto_rows": null,
            "grid_column": null,
            "grid_gap": null,
            "grid_row": null,
            "grid_template_areas": null,
            "grid_template_columns": null,
            "grid_template_rows": null,
            "height": null,
            "justify_content": null,
            "justify_items": null,
            "left": null,
            "margin": null,
            "max_height": null,
            "max_width": null,
            "min_height": null,
            "min_width": null,
            "object_fit": null,
            "object_position": null,
            "order": null,
            "overflow": null,
            "overflow_x": null,
            "overflow_y": null,
            "padding": null,
            "right": null,
            "top": null,
            "visibility": null,
            "width": null
          }
        },
        "aebad2bcbf5443c5a2732f35c419e1ca": {
          "model_module": "@jupyter-widgets/controls",
          "model_name": "DescriptionStyleModel",
          "model_module_version": "1.5.0",
          "state": {
            "_model_module": "@jupyter-widgets/controls",
            "_model_module_version": "1.5.0",
            "_model_name": "DescriptionStyleModel",
            "_view_count": null,
            "_view_module": "@jupyter-widgets/base",
            "_view_module_version": "1.2.0",
            "_view_name": "StyleView",
            "description_width": ""
          }
        },
        "1e3b1625bca64cff9a5f0951feccecb8": {
          "model_module": "@jupyter-widgets/base",
          "model_name": "LayoutModel",
          "model_module_version": "1.2.0",
          "state": {
            "_model_module": "@jupyter-widgets/base",
            "_model_module_version": "1.2.0",
            "_model_name": "LayoutModel",
            "_view_count": null,
            "_view_module": "@jupyter-widgets/base",
            "_view_module_version": "1.2.0",
            "_view_name": "LayoutView",
            "align_content": null,
            "align_items": null,
            "align_self": null,
            "border": null,
            "bottom": null,
            "display": null,
            "flex": null,
            "flex_flow": null,
            "grid_area": null,
            "grid_auto_columns": null,
            "grid_auto_flow": null,
            "grid_auto_rows": null,
            "grid_column": null,
            "grid_gap": null,
            "grid_row": null,
            "grid_template_areas": null,
            "grid_template_columns": null,
            "grid_template_rows": null,
            "height": null,
            "justify_content": null,
            "justify_items": null,
            "left": null,
            "margin": null,
            "max_height": null,
            "max_width": null,
            "min_height": null,
            "min_width": null,
            "object_fit": null,
            "object_position": null,
            "order": null,
            "overflow": null,
            "overflow_x": null,
            "overflow_y": null,
            "padding": null,
            "right": null,
            "top": null,
            "visibility": null,
            "width": null
          }
        },
        "7fa68c6d3cc74a359910bbc54c2f6de6": {
          "model_module": "@jupyter-widgets/controls",
          "model_name": "ProgressStyleModel",
          "model_module_version": "1.5.0",
          "state": {
            "_model_module": "@jupyter-widgets/controls",
            "_model_module_version": "1.5.0",
            "_model_name": "ProgressStyleModel",
            "_view_count": null,
            "_view_module": "@jupyter-widgets/base",
            "_view_module_version": "1.2.0",
            "_view_name": "StyleView",
            "bar_color": null,
            "description_width": ""
          }
        },
        "5db83c54b624435babd17da2b2131cde": {
          "model_module": "@jupyter-widgets/base",
          "model_name": "LayoutModel",
          "model_module_version": "1.2.0",
          "state": {
            "_model_module": "@jupyter-widgets/base",
            "_model_module_version": "1.2.0",
            "_model_name": "LayoutModel",
            "_view_count": null,
            "_view_module": "@jupyter-widgets/base",
            "_view_module_version": "1.2.0",
            "_view_name": "LayoutView",
            "align_content": null,
            "align_items": null,
            "align_self": null,
            "border": null,
            "bottom": null,
            "display": null,
            "flex": null,
            "flex_flow": null,
            "grid_area": null,
            "grid_auto_columns": null,
            "grid_auto_flow": null,
            "grid_auto_rows": null,
            "grid_column": null,
            "grid_gap": null,
            "grid_row": null,
            "grid_template_areas": null,
            "grid_template_columns": null,
            "grid_template_rows": null,
            "height": null,
            "justify_content": null,
            "justify_items": null,
            "left": null,
            "margin": null,
            "max_height": null,
            "max_width": null,
            "min_height": null,
            "min_width": null,
            "object_fit": null,
            "object_position": null,
            "order": null,
            "overflow": null,
            "overflow_x": null,
            "overflow_y": null,
            "padding": null,
            "right": null,
            "top": null,
            "visibility": null,
            "width": null
          }
        },
        "4a7052ee7a70450ea95114efcab1c827": {
          "model_module": "@jupyter-widgets/controls",
          "model_name": "DescriptionStyleModel",
          "model_module_version": "1.5.0",
          "state": {
            "_model_module": "@jupyter-widgets/controls",
            "_model_module_version": "1.5.0",
            "_model_name": "DescriptionStyleModel",
            "_view_count": null,
            "_view_module": "@jupyter-widgets/base",
            "_view_module_version": "1.2.0",
            "_view_name": "StyleView",
            "description_width": ""
          }
        },
        "08a27478a1bb4f3dab91c37e75638fe2": {
          "model_module": "@jupyter-widgets/controls",
          "model_name": "HBoxModel",
          "model_module_version": "1.5.0",
          "state": {
            "_dom_classes": [],
            "_model_module": "@jupyter-widgets/controls",
            "_model_module_version": "1.5.0",
            "_model_name": "HBoxModel",
            "_view_count": null,
            "_view_module": "@jupyter-widgets/controls",
            "_view_module_version": "1.5.0",
            "_view_name": "HBoxView",
            "box_style": "",
            "children": [
              "IPY_MODEL_79d7b2698165402891a1bb790be0c962",
              "IPY_MODEL_7e6931a849764015a954d8df2a234a28",
              "IPY_MODEL_054977000ddf4bd6b569a089bc8ecc37"
            ],
            "layout": "IPY_MODEL_d1ff641bb4e041ac990c74170a094e99"
          }
        },
        "79d7b2698165402891a1bb790be0c962": {
          "model_module": "@jupyter-widgets/controls",
          "model_name": "HTMLModel",
          "model_module_version": "1.5.0",
          "state": {
            "_dom_classes": [],
            "_model_module": "@jupyter-widgets/controls",
            "_model_module_version": "1.5.0",
            "_model_name": "HTMLModel",
            "_view_count": null,
            "_view_module": "@jupyter-widgets/controls",
            "_view_module_version": "1.5.0",
            "_view_name": "HTMLView",
            "description": "",
            "description_tooltip": null,
            "layout": "IPY_MODEL_b586df11d02541ad911d394cddc35e0f",
            "placeholder": "​",
            "style": "IPY_MODEL_a253f18bbb6c48898847ea4065e5ede0",
            "value": "Downloading data: 100%"
          }
        },
        "7e6931a849764015a954d8df2a234a28": {
          "model_module": "@jupyter-widgets/controls",
          "model_name": "FloatProgressModel",
          "model_module_version": "1.5.0",
          "state": {
            "_dom_classes": [],
            "_model_module": "@jupyter-widgets/controls",
            "_model_module_version": "1.5.0",
            "_model_name": "FloatProgressModel",
            "_view_count": null,
            "_view_module": "@jupyter-widgets/controls",
            "_view_module_version": "1.5.0",
            "_view_name": "ProgressView",
            "bar_style": "success",
            "description": "",
            "description_tooltip": null,
            "layout": "IPY_MODEL_718c3b2748d5424bb3969e83c2a559f2",
            "max": 202925429,
            "min": 0,
            "orientation": "horizontal",
            "style": "IPY_MODEL_14fd608c7e8049c98792f5f5c1b092aa",
            "value": 202925429
          }
        },
        "054977000ddf4bd6b569a089bc8ecc37": {
          "model_module": "@jupyter-widgets/controls",
          "model_name": "HTMLModel",
          "model_module_version": "1.5.0",
          "state": {
            "_dom_classes": [],
            "_model_module": "@jupyter-widgets/controls",
            "_model_module_version": "1.5.0",
            "_model_name": "HTMLModel",
            "_view_count": null,
            "_view_module": "@jupyter-widgets/controls",
            "_view_module_version": "1.5.0",
            "_view_name": "HTMLView",
            "description": "",
            "description_tooltip": null,
            "layout": "IPY_MODEL_b45f6b84d9e64675b657bf06581646df",
            "placeholder": "​",
            "style": "IPY_MODEL_e867d1f519d64064a77f4a3e539358ce",
            "value": " 203M/203M [00:02&lt;00:00, 90.9MB/s]"
          }
        },
        "d1ff641bb4e041ac990c74170a094e99": {
          "model_module": "@jupyter-widgets/base",
          "model_name": "LayoutModel",
          "model_module_version": "1.2.0",
          "state": {
            "_model_module": "@jupyter-widgets/base",
            "_model_module_version": "1.2.0",
            "_model_name": "LayoutModel",
            "_view_count": null,
            "_view_module": "@jupyter-widgets/base",
            "_view_module_version": "1.2.0",
            "_view_name": "LayoutView",
            "align_content": null,
            "align_items": null,
            "align_self": null,
            "border": null,
            "bottom": null,
            "display": null,
            "flex": null,
            "flex_flow": null,
            "grid_area": null,
            "grid_auto_columns": null,
            "grid_auto_flow": null,
            "grid_auto_rows": null,
            "grid_column": null,
            "grid_gap": null,
            "grid_row": null,
            "grid_template_areas": null,
            "grid_template_columns": null,
            "grid_template_rows": null,
            "height": null,
            "justify_content": null,
            "justify_items": null,
            "left": null,
            "margin": null,
            "max_height": null,
            "max_width": null,
            "min_height": null,
            "min_width": null,
            "object_fit": null,
            "object_position": null,
            "order": null,
            "overflow": null,
            "overflow_x": null,
            "overflow_y": null,
            "padding": null,
            "right": null,
            "top": null,
            "visibility": null,
            "width": null
          }
        },
        "b586df11d02541ad911d394cddc35e0f": {
          "model_module": "@jupyter-widgets/base",
          "model_name": "LayoutModel",
          "model_module_version": "1.2.0",
          "state": {
            "_model_module": "@jupyter-widgets/base",
            "_model_module_version": "1.2.0",
            "_model_name": "LayoutModel",
            "_view_count": null,
            "_view_module": "@jupyter-widgets/base",
            "_view_module_version": "1.2.0",
            "_view_name": "LayoutView",
            "align_content": null,
            "align_items": null,
            "align_self": null,
            "border": null,
            "bottom": null,
            "display": null,
            "flex": null,
            "flex_flow": null,
            "grid_area": null,
            "grid_auto_columns": null,
            "grid_auto_flow": null,
            "grid_auto_rows": null,
            "grid_column": null,
            "grid_gap": null,
            "grid_row": null,
            "grid_template_areas": null,
            "grid_template_columns": null,
            "grid_template_rows": null,
            "height": null,
            "justify_content": null,
            "justify_items": null,
            "left": null,
            "margin": null,
            "max_height": null,
            "max_width": null,
            "min_height": null,
            "min_width": null,
            "object_fit": null,
            "object_position": null,
            "order": null,
            "overflow": null,
            "overflow_x": null,
            "overflow_y": null,
            "padding": null,
            "right": null,
            "top": null,
            "visibility": null,
            "width": null
          }
        },
        "a253f18bbb6c48898847ea4065e5ede0": {
          "model_module": "@jupyter-widgets/controls",
          "model_name": "DescriptionStyleModel",
          "model_module_version": "1.5.0",
          "state": {
            "_model_module": "@jupyter-widgets/controls",
            "_model_module_version": "1.5.0",
            "_model_name": "DescriptionStyleModel",
            "_view_count": null,
            "_view_module": "@jupyter-widgets/base",
            "_view_module_version": "1.2.0",
            "_view_name": "StyleView",
            "description_width": ""
          }
        },
        "718c3b2748d5424bb3969e83c2a559f2": {
          "model_module": "@jupyter-widgets/base",
          "model_name": "LayoutModel",
          "model_module_version": "1.2.0",
          "state": {
            "_model_module": "@jupyter-widgets/base",
            "_model_module_version": "1.2.0",
            "_model_name": "LayoutModel",
            "_view_count": null,
            "_view_module": "@jupyter-widgets/base",
            "_view_module_version": "1.2.0",
            "_view_name": "LayoutView",
            "align_content": null,
            "align_items": null,
            "align_self": null,
            "border": null,
            "bottom": null,
            "display": null,
            "flex": null,
            "flex_flow": null,
            "grid_area": null,
            "grid_auto_columns": null,
            "grid_auto_flow": null,
            "grid_auto_rows": null,
            "grid_column": null,
            "grid_gap": null,
            "grid_row": null,
            "grid_template_areas": null,
            "grid_template_columns": null,
            "grid_template_rows": null,
            "height": null,
            "justify_content": null,
            "justify_items": null,
            "left": null,
            "margin": null,
            "max_height": null,
            "max_width": null,
            "min_height": null,
            "min_width": null,
            "object_fit": null,
            "object_position": null,
            "order": null,
            "overflow": null,
            "overflow_x": null,
            "overflow_y": null,
            "padding": null,
            "right": null,
            "top": null,
            "visibility": null,
            "width": null
          }
        },
        "14fd608c7e8049c98792f5f5c1b092aa": {
          "model_module": "@jupyter-widgets/controls",
          "model_name": "ProgressStyleModel",
          "model_module_version": "1.5.0",
          "state": {
            "_model_module": "@jupyter-widgets/controls",
            "_model_module_version": "1.5.0",
            "_model_name": "ProgressStyleModel",
            "_view_count": null,
            "_view_module": "@jupyter-widgets/base",
            "_view_module_version": "1.2.0",
            "_view_name": "StyleView",
            "bar_color": null,
            "description_width": ""
          }
        },
        "b45f6b84d9e64675b657bf06581646df": {
          "model_module": "@jupyter-widgets/base",
          "model_name": "LayoutModel",
          "model_module_version": "1.2.0",
          "state": {
            "_model_module": "@jupyter-widgets/base",
            "_model_module_version": "1.2.0",
            "_model_name": "LayoutModel",
            "_view_count": null,
            "_view_module": "@jupyter-widgets/base",
            "_view_module_version": "1.2.0",
            "_view_name": "LayoutView",
            "align_content": null,
            "align_items": null,
            "align_self": null,
            "border": null,
            "bottom": null,
            "display": null,
            "flex": null,
            "flex_flow": null,
            "grid_area": null,
            "grid_auto_columns": null,
            "grid_auto_flow": null,
            "grid_auto_rows": null,
            "grid_column": null,
            "grid_gap": null,
            "grid_row": null,
            "grid_template_areas": null,
            "grid_template_columns": null,
            "grid_template_rows": null,
            "height": null,
            "justify_content": null,
            "justify_items": null,
            "left": null,
            "margin": null,
            "max_height": null,
            "max_width": null,
            "min_height": null,
            "min_width": null,
            "object_fit": null,
            "object_position": null,
            "order": null,
            "overflow": null,
            "overflow_x": null,
            "overflow_y": null,
            "padding": null,
            "right": null,
            "top": null,
            "visibility": null,
            "width": null
          }
        },
        "e867d1f519d64064a77f4a3e539358ce": {
          "model_module": "@jupyter-widgets/controls",
          "model_name": "DescriptionStyleModel",
          "model_module_version": "1.5.0",
          "state": {
            "_model_module": "@jupyter-widgets/controls",
            "_model_module_version": "1.5.0",
            "_model_name": "DescriptionStyleModel",
            "_view_count": null,
            "_view_module": "@jupyter-widgets/base",
            "_view_module_version": "1.2.0",
            "_view_name": "StyleView",
            "description_width": ""
          }
        },
        "8a87f75f6d614483a8dc6fa7a8f5d09d": {
          "model_module": "@jupyter-widgets/controls",
          "model_name": "HBoxModel",
          "model_module_version": "1.5.0",
          "state": {
            "_dom_classes": [],
            "_model_module": "@jupyter-widgets/controls",
            "_model_module_version": "1.5.0",
            "_model_name": "HBoxModel",
            "_view_count": null,
            "_view_module": "@jupyter-widgets/controls",
            "_view_module_version": "1.5.0",
            "_view_name": "HBoxView",
            "box_style": "",
            "children": [
              "IPY_MODEL_3f3dd56f6bda4bd193c6482870cc9e24",
              "IPY_MODEL_2cca5b6cc5ea4ca3ba6038b5dc21ea07",
              "IPY_MODEL_4f132cd0fac8436ca08bfd55b6987360"
            ],
            "layout": "IPY_MODEL_d0f1c834e8a34d9cb6204ac30a1e4e33"
          }
        },
        "3f3dd56f6bda4bd193c6482870cc9e24": {
          "model_module": "@jupyter-widgets/controls",
          "model_name": "HTMLModel",
          "model_module_version": "1.5.0",
          "state": {
            "_dom_classes": [],
            "_model_module": "@jupyter-widgets/controls",
            "_model_module_version": "1.5.0",
            "_model_name": "HTMLModel",
            "_view_count": null,
            "_view_module": "@jupyter-widgets/controls",
            "_view_module_version": "1.5.0",
            "_view_name": "HTMLView",
            "description": "",
            "description_tooltip": null,
            "layout": "IPY_MODEL_645e20f3701f44669c23787be58b5309",
            "placeholder": "​",
            "style": "IPY_MODEL_8499406927cd4b338f9b6df141485d08",
            "value": "Extracting data files: 100%"
          }
        },
        "2cca5b6cc5ea4ca3ba6038b5dc21ea07": {
          "model_module": "@jupyter-widgets/controls",
          "model_name": "FloatProgressModel",
          "model_module_version": "1.5.0",
          "state": {
            "_dom_classes": [],
            "_model_module": "@jupyter-widgets/controls",
            "_model_module_version": "1.5.0",
            "_model_name": "FloatProgressModel",
            "_view_count": null,
            "_view_module": "@jupyter-widgets/controls",
            "_view_module_version": "1.5.0",
            "_view_name": "ProgressView",
            "bar_style": "success",
            "description": "",
            "description_tooltip": null,
            "layout": "IPY_MODEL_e86f16c075164254b71a31ef198db767",
            "max": 1,
            "min": 0,
            "orientation": "horizontal",
            "style": "IPY_MODEL_b3bba2c0dde24362a90b012429b547d4",
            "value": 1
          }
        },
        "4f132cd0fac8436ca08bfd55b6987360": {
          "model_module": "@jupyter-widgets/controls",
          "model_name": "HTMLModel",
          "model_module_version": "1.5.0",
          "state": {
            "_dom_classes": [],
            "_model_module": "@jupyter-widgets/controls",
            "_model_module_version": "1.5.0",
            "_model_name": "HTMLModel",
            "_view_count": null,
            "_view_module": "@jupyter-widgets/controls",
            "_view_module_version": "1.5.0",
            "_view_name": "HTMLView",
            "description": "",
            "description_tooltip": null,
            "layout": "IPY_MODEL_1ca7e6f2081743bdb5a46950b3b7ea12",
            "placeholder": "​",
            "style": "IPY_MODEL_043eb60ae7d94c3fb5464d512525fb18",
            "value": " 1/1 [00:00&lt;00:00, 54.75it/s]"
          }
        },
        "d0f1c834e8a34d9cb6204ac30a1e4e33": {
          "model_module": "@jupyter-widgets/base",
          "model_name": "LayoutModel",
          "model_module_version": "1.2.0",
          "state": {
            "_model_module": "@jupyter-widgets/base",
            "_model_module_version": "1.2.0",
            "_model_name": "LayoutModel",
            "_view_count": null,
            "_view_module": "@jupyter-widgets/base",
            "_view_module_version": "1.2.0",
            "_view_name": "LayoutView",
            "align_content": null,
            "align_items": null,
            "align_self": null,
            "border": null,
            "bottom": null,
            "display": null,
            "flex": null,
            "flex_flow": null,
            "grid_area": null,
            "grid_auto_columns": null,
            "grid_auto_flow": null,
            "grid_auto_rows": null,
            "grid_column": null,
            "grid_gap": null,
            "grid_row": null,
            "grid_template_areas": null,
            "grid_template_columns": null,
            "grid_template_rows": null,
            "height": null,
            "justify_content": null,
            "justify_items": null,
            "left": null,
            "margin": null,
            "max_height": null,
            "max_width": null,
            "min_height": null,
            "min_width": null,
            "object_fit": null,
            "object_position": null,
            "order": null,
            "overflow": null,
            "overflow_x": null,
            "overflow_y": null,
            "padding": null,
            "right": null,
            "top": null,
            "visibility": null,
            "width": null
          }
        },
        "645e20f3701f44669c23787be58b5309": {
          "model_module": "@jupyter-widgets/base",
          "model_name": "LayoutModel",
          "model_module_version": "1.2.0",
          "state": {
            "_model_module": "@jupyter-widgets/base",
            "_model_module_version": "1.2.0",
            "_model_name": "LayoutModel",
            "_view_count": null,
            "_view_module": "@jupyter-widgets/base",
            "_view_module_version": "1.2.0",
            "_view_name": "LayoutView",
            "align_content": null,
            "align_items": null,
            "align_self": null,
            "border": null,
            "bottom": null,
            "display": null,
            "flex": null,
            "flex_flow": null,
            "grid_area": null,
            "grid_auto_columns": null,
            "grid_auto_flow": null,
            "grid_auto_rows": null,
            "grid_column": null,
            "grid_gap": null,
            "grid_row": null,
            "grid_template_areas": null,
            "grid_template_columns": null,
            "grid_template_rows": null,
            "height": null,
            "justify_content": null,
            "justify_items": null,
            "left": null,
            "margin": null,
            "max_height": null,
            "max_width": null,
            "min_height": null,
            "min_width": null,
            "object_fit": null,
            "object_position": null,
            "order": null,
            "overflow": null,
            "overflow_x": null,
            "overflow_y": null,
            "padding": null,
            "right": null,
            "top": null,
            "visibility": null,
            "width": null
          }
        },
        "8499406927cd4b338f9b6df141485d08": {
          "model_module": "@jupyter-widgets/controls",
          "model_name": "DescriptionStyleModel",
          "model_module_version": "1.5.0",
          "state": {
            "_model_module": "@jupyter-widgets/controls",
            "_model_module_version": "1.5.0",
            "_model_name": "DescriptionStyleModel",
            "_view_count": null,
            "_view_module": "@jupyter-widgets/base",
            "_view_module_version": "1.2.0",
            "_view_name": "StyleView",
            "description_width": ""
          }
        },
        "e86f16c075164254b71a31ef198db767": {
          "model_module": "@jupyter-widgets/base",
          "model_name": "LayoutModel",
          "model_module_version": "1.2.0",
          "state": {
            "_model_module": "@jupyter-widgets/base",
            "_model_module_version": "1.2.0",
            "_model_name": "LayoutModel",
            "_view_count": null,
            "_view_module": "@jupyter-widgets/base",
            "_view_module_version": "1.2.0",
            "_view_name": "LayoutView",
            "align_content": null,
            "align_items": null,
            "align_self": null,
            "border": null,
            "bottom": null,
            "display": null,
            "flex": null,
            "flex_flow": null,
            "grid_area": null,
            "grid_auto_columns": null,
            "grid_auto_flow": null,
            "grid_auto_rows": null,
            "grid_column": null,
            "grid_gap": null,
            "grid_row": null,
            "grid_template_areas": null,
            "grid_template_columns": null,
            "grid_template_rows": null,
            "height": null,
            "justify_content": null,
            "justify_items": null,
            "left": null,
            "margin": null,
            "max_height": null,
            "max_width": null,
            "min_height": null,
            "min_width": null,
            "object_fit": null,
            "object_position": null,
            "order": null,
            "overflow": null,
            "overflow_x": null,
            "overflow_y": null,
            "padding": null,
            "right": null,
            "top": null,
            "visibility": null,
            "width": null
          }
        },
        "b3bba2c0dde24362a90b012429b547d4": {
          "model_module": "@jupyter-widgets/controls",
          "model_name": "ProgressStyleModel",
          "model_module_version": "1.5.0",
          "state": {
            "_model_module": "@jupyter-widgets/controls",
            "_model_module_version": "1.5.0",
            "_model_name": "ProgressStyleModel",
            "_view_count": null,
            "_view_module": "@jupyter-widgets/base",
            "_view_module_version": "1.2.0",
            "_view_name": "StyleView",
            "bar_color": null,
            "description_width": ""
          }
        },
        "1ca7e6f2081743bdb5a46950b3b7ea12": {
          "model_module": "@jupyter-widgets/base",
          "model_name": "LayoutModel",
          "model_module_version": "1.2.0",
          "state": {
            "_model_module": "@jupyter-widgets/base",
            "_model_module_version": "1.2.0",
            "_model_name": "LayoutModel",
            "_view_count": null,
            "_view_module": "@jupyter-widgets/base",
            "_view_module_version": "1.2.0",
            "_view_name": "LayoutView",
            "align_content": null,
            "align_items": null,
            "align_self": null,
            "border": null,
            "bottom": null,
            "display": null,
            "flex": null,
            "flex_flow": null,
            "grid_area": null,
            "grid_auto_columns": null,
            "grid_auto_flow": null,
            "grid_auto_rows": null,
            "grid_column": null,
            "grid_gap": null,
            "grid_row": null,
            "grid_template_areas": null,
            "grid_template_columns": null,
            "grid_template_rows": null,
            "height": null,
            "justify_content": null,
            "justify_items": null,
            "left": null,
            "margin": null,
            "max_height": null,
            "max_width": null,
            "min_height": null,
            "min_width": null,
            "object_fit": null,
            "object_position": null,
            "order": null,
            "overflow": null,
            "overflow_x": null,
            "overflow_y": null,
            "padding": null,
            "right": null,
            "top": null,
            "visibility": null,
            "width": null
          }
        },
        "043eb60ae7d94c3fb5464d512525fb18": {
          "model_module": "@jupyter-widgets/controls",
          "model_name": "DescriptionStyleModel",
          "model_module_version": "1.5.0",
          "state": {
            "_model_module": "@jupyter-widgets/controls",
            "_model_module_version": "1.5.0",
            "_model_name": "DescriptionStyleModel",
            "_view_count": null,
            "_view_module": "@jupyter-widgets/base",
            "_view_module_version": "1.2.0",
            "_view_name": "StyleView",
            "description_width": ""
          }
        },
        "78b2ff2d9ece4a0187518d849d37cbb8": {
          "model_module": "@jupyter-widgets/controls",
          "model_name": "HBoxModel",
          "model_module_version": "1.5.0",
          "state": {
            "_dom_classes": [],
            "_model_module": "@jupyter-widgets/controls",
            "_model_module_version": "1.5.0",
            "_model_name": "HBoxModel",
            "_view_count": null,
            "_view_module": "@jupyter-widgets/controls",
            "_view_module_version": "1.5.0",
            "_view_name": "HBoxView",
            "box_style": "",
            "children": [
              "IPY_MODEL_18959535adbb4b2ca17b5fb565381aad",
              "IPY_MODEL_4836554b46b646feae3ebcaa9da1a68a",
              "IPY_MODEL_7b431be7024545478311c88b5b3e53d4"
            ],
            "layout": "IPY_MODEL_9d0c9f3faea941f787a9d4bde09d499d"
          }
        },
        "18959535adbb4b2ca17b5fb565381aad": {
          "model_module": "@jupyter-widgets/controls",
          "model_name": "HTMLModel",
          "model_module_version": "1.5.0",
          "state": {
            "_dom_classes": [],
            "_model_module": "@jupyter-widgets/controls",
            "_model_module_version": "1.5.0",
            "_model_name": "HTMLModel",
            "_view_count": null,
            "_view_module": "@jupyter-widgets/controls",
            "_view_module_version": "1.5.0",
            "_view_name": "HTMLView",
            "description": "",
            "description_tooltip": null,
            "layout": "IPY_MODEL_531b3d993a4f48fabc917986b2f8be88",
            "placeholder": "​",
            "style": "IPY_MODEL_cded6738648640a483d0e4c37933ddd0",
            "value": "Generating train split: "
          }
        },
        "4836554b46b646feae3ebcaa9da1a68a": {
          "model_module": "@jupyter-widgets/controls",
          "model_name": "FloatProgressModel",
          "model_module_version": "1.5.0",
          "state": {
            "_dom_classes": [],
            "_model_module": "@jupyter-widgets/controls",
            "_model_module_version": "1.5.0",
            "_model_name": "FloatProgressModel",
            "_view_count": null,
            "_view_module": "@jupyter-widgets/controls",
            "_view_module_version": "1.5.0",
            "_view_name": "ProgressView",
            "bar_style": "info",
            "description": "",
            "description_tooltip": null,
            "layout": "IPY_MODEL_e096e20f851c4f639032ae844caadcb0",
            "max": 1,
            "min": 0,
            "orientation": "horizontal",
            "style": "IPY_MODEL_2d21bde1d7b34fca91e85d3b75f57513",
            "value": 1
          }
        },
        "7b431be7024545478311c88b5b3e53d4": {
          "model_module": "@jupyter-widgets/controls",
          "model_name": "HTMLModel",
          "model_module_version": "1.5.0",
          "state": {
            "_dom_classes": [],
            "_model_module": "@jupyter-widgets/controls",
            "_model_module_version": "1.5.0",
            "_model_name": "HTMLModel",
            "_view_count": null,
            "_view_module": "@jupyter-widgets/controls",
            "_view_module_version": "1.5.0",
            "_view_name": "HTMLView",
            "description": "",
            "description_tooltip": null,
            "layout": "IPY_MODEL_e092bae631f24117aa1c8c16da8c9eff",
            "placeholder": "​",
            "style": "IPY_MODEL_d775f89f77154c03b6ccda8ad7576b5f",
            "value": " 1075/0 [00:07&lt;00:00, 149.34 examples/s]"
          }
        },
        "9d0c9f3faea941f787a9d4bde09d499d": {
          "model_module": "@jupyter-widgets/base",
          "model_name": "LayoutModel",
          "model_module_version": "1.2.0",
          "state": {
            "_model_module": "@jupyter-widgets/base",
            "_model_module_version": "1.2.0",
            "_model_name": "LayoutModel",
            "_view_count": null,
            "_view_module": "@jupyter-widgets/base",
            "_view_module_version": "1.2.0",
            "_view_name": "LayoutView",
            "align_content": null,
            "align_items": null,
            "align_self": null,
            "border": null,
            "bottom": null,
            "display": null,
            "flex": null,
            "flex_flow": null,
            "grid_area": null,
            "grid_auto_columns": null,
            "grid_auto_flow": null,
            "grid_auto_rows": null,
            "grid_column": null,
            "grid_gap": null,
            "grid_row": null,
            "grid_template_areas": null,
            "grid_template_columns": null,
            "grid_template_rows": null,
            "height": null,
            "justify_content": null,
            "justify_items": null,
            "left": null,
            "margin": null,
            "max_height": null,
            "max_width": null,
            "min_height": null,
            "min_width": null,
            "object_fit": null,
            "object_position": null,
            "order": null,
            "overflow": null,
            "overflow_x": null,
            "overflow_y": null,
            "padding": null,
            "right": null,
            "top": null,
            "visibility": "hidden",
            "width": null
          }
        },
        "531b3d993a4f48fabc917986b2f8be88": {
          "model_module": "@jupyter-widgets/base",
          "model_name": "LayoutModel",
          "model_module_version": "1.2.0",
          "state": {
            "_model_module": "@jupyter-widgets/base",
            "_model_module_version": "1.2.0",
            "_model_name": "LayoutModel",
            "_view_count": null,
            "_view_module": "@jupyter-widgets/base",
            "_view_module_version": "1.2.0",
            "_view_name": "LayoutView",
            "align_content": null,
            "align_items": null,
            "align_self": null,
            "border": null,
            "bottom": null,
            "display": null,
            "flex": null,
            "flex_flow": null,
            "grid_area": null,
            "grid_auto_columns": null,
            "grid_auto_flow": null,
            "grid_auto_rows": null,
            "grid_column": null,
            "grid_gap": null,
            "grid_row": null,
            "grid_template_areas": null,
            "grid_template_columns": null,
            "grid_template_rows": null,
            "height": null,
            "justify_content": null,
            "justify_items": null,
            "left": null,
            "margin": null,
            "max_height": null,
            "max_width": null,
            "min_height": null,
            "min_width": null,
            "object_fit": null,
            "object_position": null,
            "order": null,
            "overflow": null,
            "overflow_x": null,
            "overflow_y": null,
            "padding": null,
            "right": null,
            "top": null,
            "visibility": null,
            "width": null
          }
        },
        "cded6738648640a483d0e4c37933ddd0": {
          "model_module": "@jupyter-widgets/controls",
          "model_name": "DescriptionStyleModel",
          "model_module_version": "1.5.0",
          "state": {
            "_model_module": "@jupyter-widgets/controls",
            "_model_module_version": "1.5.0",
            "_model_name": "DescriptionStyleModel",
            "_view_count": null,
            "_view_module": "@jupyter-widgets/base",
            "_view_module_version": "1.2.0",
            "_view_name": "StyleView",
            "description_width": ""
          }
        },
        "e096e20f851c4f639032ae844caadcb0": {
          "model_module": "@jupyter-widgets/base",
          "model_name": "LayoutModel",
          "model_module_version": "1.2.0",
          "state": {
            "_model_module": "@jupyter-widgets/base",
            "_model_module_version": "1.2.0",
            "_model_name": "LayoutModel",
            "_view_count": null,
            "_view_module": "@jupyter-widgets/base",
            "_view_module_version": "1.2.0",
            "_view_name": "LayoutView",
            "align_content": null,
            "align_items": null,
            "align_self": null,
            "border": null,
            "bottom": null,
            "display": null,
            "flex": null,
            "flex_flow": null,
            "grid_area": null,
            "grid_auto_columns": null,
            "grid_auto_flow": null,
            "grid_auto_rows": null,
            "grid_column": null,
            "grid_gap": null,
            "grid_row": null,
            "grid_template_areas": null,
            "grid_template_columns": null,
            "grid_template_rows": null,
            "height": null,
            "justify_content": null,
            "justify_items": null,
            "left": null,
            "margin": null,
            "max_height": null,
            "max_width": null,
            "min_height": null,
            "min_width": null,
            "object_fit": null,
            "object_position": null,
            "order": null,
            "overflow": null,
            "overflow_x": null,
            "overflow_y": null,
            "padding": null,
            "right": null,
            "top": null,
            "visibility": null,
            "width": "20px"
          }
        },
        "2d21bde1d7b34fca91e85d3b75f57513": {
          "model_module": "@jupyter-widgets/controls",
          "model_name": "ProgressStyleModel",
          "model_module_version": "1.5.0",
          "state": {
            "_model_module": "@jupyter-widgets/controls",
            "_model_module_version": "1.5.0",
            "_model_name": "ProgressStyleModel",
            "_view_count": null,
            "_view_module": "@jupyter-widgets/base",
            "_view_module_version": "1.2.0",
            "_view_name": "StyleView",
            "bar_color": null,
            "description_width": ""
          }
        },
        "e092bae631f24117aa1c8c16da8c9eff": {
          "model_module": "@jupyter-widgets/base",
          "model_name": "LayoutModel",
          "model_module_version": "1.2.0",
          "state": {
            "_model_module": "@jupyter-widgets/base",
            "_model_module_version": "1.2.0",
            "_model_name": "LayoutModel",
            "_view_count": null,
            "_view_module": "@jupyter-widgets/base",
            "_view_module_version": "1.2.0",
            "_view_name": "LayoutView",
            "align_content": null,
            "align_items": null,
            "align_self": null,
            "border": null,
            "bottom": null,
            "display": null,
            "flex": null,
            "flex_flow": null,
            "grid_area": null,
            "grid_auto_columns": null,
            "grid_auto_flow": null,
            "grid_auto_rows": null,
            "grid_column": null,
            "grid_gap": null,
            "grid_row": null,
            "grid_template_areas": null,
            "grid_template_columns": null,
            "grid_template_rows": null,
            "height": null,
            "justify_content": null,
            "justify_items": null,
            "left": null,
            "margin": null,
            "max_height": null,
            "max_width": null,
            "min_height": null,
            "min_width": null,
            "object_fit": null,
            "object_position": null,
            "order": null,
            "overflow": null,
            "overflow_x": null,
            "overflow_y": null,
            "padding": null,
            "right": null,
            "top": null,
            "visibility": null,
            "width": null
          }
        },
        "d775f89f77154c03b6ccda8ad7576b5f": {
          "model_module": "@jupyter-widgets/controls",
          "model_name": "DescriptionStyleModel",
          "model_module_version": "1.5.0",
          "state": {
            "_model_module": "@jupyter-widgets/controls",
            "_model_module_version": "1.5.0",
            "_model_name": "DescriptionStyleModel",
            "_view_count": null,
            "_view_module": "@jupyter-widgets/base",
            "_view_module_version": "1.2.0",
            "_view_name": "StyleView",
            "description_width": ""
          }
        },
        "927c2656f09b4d6f936a0628f19f5bea": {
          "model_module": "@jupyter-widgets/controls",
          "model_name": "HBoxModel",
          "model_module_version": "1.5.0",
          "state": {
            "_dom_classes": [],
            "_model_module": "@jupyter-widgets/controls",
            "_model_module_version": "1.5.0",
            "_model_name": "HBoxModel",
            "_view_count": null,
            "_view_module": "@jupyter-widgets/controls",
            "_view_module_version": "1.5.0",
            "_view_name": "HBoxView",
            "box_style": "",
            "children": [
              "IPY_MODEL_896ca9d441cf436e9f2a70fe23de70d8",
              "IPY_MODEL_ae9e424d2fe044cc9474ef7b1f2b4d65",
              "IPY_MODEL_faa622a658fe4ed8afd19e616bef7b5b"
            ],
            "layout": "IPY_MODEL_5b756a4cff6843e08f9fa58046718da8"
          }
        },
        "896ca9d441cf436e9f2a70fe23de70d8": {
          "model_module": "@jupyter-widgets/controls",
          "model_name": "HTMLModel",
          "model_module_version": "1.5.0",
          "state": {
            "_dom_classes": [],
            "_model_module": "@jupyter-widgets/controls",
            "_model_module_version": "1.5.0",
            "_model_name": "HTMLModel",
            "_view_count": null,
            "_view_module": "@jupyter-widgets/controls",
            "_view_module_version": "1.5.0",
            "_view_name": "HTMLView",
            "description": "",
            "description_tooltip": null,
            "layout": "IPY_MODEL_225e0b1899b44428a9901f4188a7b783",
            "placeholder": "​",
            "style": "IPY_MODEL_cbfcde95c29f4f109773bc99dbcd6a3e",
            "value": "100%"
          }
        },
        "ae9e424d2fe044cc9474ef7b1f2b4d65": {
          "model_module": "@jupyter-widgets/controls",
          "model_name": "FloatProgressModel",
          "model_module_version": "1.5.0",
          "state": {
            "_dom_classes": [],
            "_model_module": "@jupyter-widgets/controls",
            "_model_module_version": "1.5.0",
            "_model_name": "FloatProgressModel",
            "_view_count": null,
            "_view_module": "@jupyter-widgets/controls",
            "_view_module_version": "1.5.0",
            "_view_name": "ProgressView",
            "bar_style": "success",
            "description": "",
            "description_tooltip": null,
            "layout": "IPY_MODEL_7a7c9fe47175465ab502c104df462d89",
            "max": 1,
            "min": 0,
            "orientation": "horizontal",
            "style": "IPY_MODEL_e68476fabf9643aaaec9e8b9ad4eb25a",
            "value": 1
          }
        },
        "faa622a658fe4ed8afd19e616bef7b5b": {
          "model_module": "@jupyter-widgets/controls",
          "model_name": "HTMLModel",
          "model_module_version": "1.5.0",
          "state": {
            "_dom_classes": [],
            "_model_module": "@jupyter-widgets/controls",
            "_model_module_version": "1.5.0",
            "_model_name": "HTMLModel",
            "_view_count": null,
            "_view_module": "@jupyter-widgets/controls",
            "_view_module_version": "1.5.0",
            "_view_name": "HTMLView",
            "description": "",
            "description_tooltip": null,
            "layout": "IPY_MODEL_ec006997a06f42b5873bf401b270515f",
            "placeholder": "​",
            "style": "IPY_MODEL_f157f363e9434c879fac7d718a4af073",
            "value": " 1/1 [00:00&lt;00:00,  7.59it/s]"
          }
        },
        "5b756a4cff6843e08f9fa58046718da8": {
          "model_module": "@jupyter-widgets/base",
          "model_name": "LayoutModel",
          "model_module_version": "1.2.0",
          "state": {
            "_model_module": "@jupyter-widgets/base",
            "_model_module_version": "1.2.0",
            "_model_name": "LayoutModel",
            "_view_count": null,
            "_view_module": "@jupyter-widgets/base",
            "_view_module_version": "1.2.0",
            "_view_name": "LayoutView",
            "align_content": null,
            "align_items": null,
            "align_self": null,
            "border": null,
            "bottom": null,
            "display": null,
            "flex": null,
            "flex_flow": null,
            "grid_area": null,
            "grid_auto_columns": null,
            "grid_auto_flow": null,
            "grid_auto_rows": null,
            "grid_column": null,
            "grid_gap": null,
            "grid_row": null,
            "grid_template_areas": null,
            "grid_template_columns": null,
            "grid_template_rows": null,
            "height": null,
            "justify_content": null,
            "justify_items": null,
            "left": null,
            "margin": null,
            "max_height": null,
            "max_width": null,
            "min_height": null,
            "min_width": null,
            "object_fit": null,
            "object_position": null,
            "order": null,
            "overflow": null,
            "overflow_x": null,
            "overflow_y": null,
            "padding": null,
            "right": null,
            "top": null,
            "visibility": null,
            "width": null
          }
        },
        "225e0b1899b44428a9901f4188a7b783": {
          "model_module": "@jupyter-widgets/base",
          "model_name": "LayoutModel",
          "model_module_version": "1.2.0",
          "state": {
            "_model_module": "@jupyter-widgets/base",
            "_model_module_version": "1.2.0",
            "_model_name": "LayoutModel",
            "_view_count": null,
            "_view_module": "@jupyter-widgets/base",
            "_view_module_version": "1.2.0",
            "_view_name": "LayoutView",
            "align_content": null,
            "align_items": null,
            "align_self": null,
            "border": null,
            "bottom": null,
            "display": null,
            "flex": null,
            "flex_flow": null,
            "grid_area": null,
            "grid_auto_columns": null,
            "grid_auto_flow": null,
            "grid_auto_rows": null,
            "grid_column": null,
            "grid_gap": null,
            "grid_row": null,
            "grid_template_areas": null,
            "grid_template_columns": null,
            "grid_template_rows": null,
            "height": null,
            "justify_content": null,
            "justify_items": null,
            "left": null,
            "margin": null,
            "max_height": null,
            "max_width": null,
            "min_height": null,
            "min_width": null,
            "object_fit": null,
            "object_position": null,
            "order": null,
            "overflow": null,
            "overflow_x": null,
            "overflow_y": null,
            "padding": null,
            "right": null,
            "top": null,
            "visibility": null,
            "width": null
          }
        },
        "cbfcde95c29f4f109773bc99dbcd6a3e": {
          "model_module": "@jupyter-widgets/controls",
          "model_name": "DescriptionStyleModel",
          "model_module_version": "1.5.0",
          "state": {
            "_model_module": "@jupyter-widgets/controls",
            "_model_module_version": "1.5.0",
            "_model_name": "DescriptionStyleModel",
            "_view_count": null,
            "_view_module": "@jupyter-widgets/base",
            "_view_module_version": "1.2.0",
            "_view_name": "StyleView",
            "description_width": ""
          }
        },
        "7a7c9fe47175465ab502c104df462d89": {
          "model_module": "@jupyter-widgets/base",
          "model_name": "LayoutModel",
          "model_module_version": "1.2.0",
          "state": {
            "_model_module": "@jupyter-widgets/base",
            "_model_module_version": "1.2.0",
            "_model_name": "LayoutModel",
            "_view_count": null,
            "_view_module": "@jupyter-widgets/base",
            "_view_module_version": "1.2.0",
            "_view_name": "LayoutView",
            "align_content": null,
            "align_items": null,
            "align_self": null,
            "border": null,
            "bottom": null,
            "display": null,
            "flex": null,
            "flex_flow": null,
            "grid_area": null,
            "grid_auto_columns": null,
            "grid_auto_flow": null,
            "grid_auto_rows": null,
            "grid_column": null,
            "grid_gap": null,
            "grid_row": null,
            "grid_template_areas": null,
            "grid_template_columns": null,
            "grid_template_rows": null,
            "height": null,
            "justify_content": null,
            "justify_items": null,
            "left": null,
            "margin": null,
            "max_height": null,
            "max_width": null,
            "min_height": null,
            "min_width": null,
            "object_fit": null,
            "object_position": null,
            "order": null,
            "overflow": null,
            "overflow_x": null,
            "overflow_y": null,
            "padding": null,
            "right": null,
            "top": null,
            "visibility": null,
            "width": null
          }
        },
        "e68476fabf9643aaaec9e8b9ad4eb25a": {
          "model_module": "@jupyter-widgets/controls",
          "model_name": "ProgressStyleModel",
          "model_module_version": "1.5.0",
          "state": {
            "_model_module": "@jupyter-widgets/controls",
            "_model_module_version": "1.5.0",
            "_model_name": "ProgressStyleModel",
            "_view_count": null,
            "_view_module": "@jupyter-widgets/base",
            "_view_module_version": "1.2.0",
            "_view_name": "StyleView",
            "bar_color": null,
            "description_width": ""
          }
        },
        "ec006997a06f42b5873bf401b270515f": {
          "model_module": "@jupyter-widgets/base",
          "model_name": "LayoutModel",
          "model_module_version": "1.2.0",
          "state": {
            "_model_module": "@jupyter-widgets/base",
            "_model_module_version": "1.2.0",
            "_model_name": "LayoutModel",
            "_view_count": null,
            "_view_module": "@jupyter-widgets/base",
            "_view_module_version": "1.2.0",
            "_view_name": "LayoutView",
            "align_content": null,
            "align_items": null,
            "align_self": null,
            "border": null,
            "bottom": null,
            "display": null,
            "flex": null,
            "flex_flow": null,
            "grid_area": null,
            "grid_auto_columns": null,
            "grid_auto_flow": null,
            "grid_auto_rows": null,
            "grid_column": null,
            "grid_gap": null,
            "grid_row": null,
            "grid_template_areas": null,
            "grid_template_columns": null,
            "grid_template_rows": null,
            "height": null,
            "justify_content": null,
            "justify_items": null,
            "left": null,
            "margin": null,
            "max_height": null,
            "max_width": null,
            "min_height": null,
            "min_width": null,
            "object_fit": null,
            "object_position": null,
            "order": null,
            "overflow": null,
            "overflow_x": null,
            "overflow_y": null,
            "padding": null,
            "right": null,
            "top": null,
            "visibility": null,
            "width": null
          }
        },
        "f157f363e9434c879fac7d718a4af073": {
          "model_module": "@jupyter-widgets/controls",
          "model_name": "DescriptionStyleModel",
          "model_module_version": "1.5.0",
          "state": {
            "_model_module": "@jupyter-widgets/controls",
            "_model_module_version": "1.5.0",
            "_model_name": "DescriptionStyleModel",
            "_view_count": null,
            "_view_module": "@jupyter-widgets/base",
            "_view_module_version": "1.2.0",
            "_view_name": "StyleView",
            "description_width": ""
          }
        }
      }
    }
  },
  "cells": [
    {
      "cell_type": "code",
      "execution_count": null,
      "metadata": {
        "colab": {
          "base_uri": "https://localhost:8080/"
        },
        "id": "nk0cBHe0Ub2-",
        "outputId": "f7176074-12d4-4a01-919a-411999c2b052"
      },
      "outputs": [
        {
          "output_type": "stream",
          "name": "stdout",
          "text": [
            "Looking in indexes: https://pypi.org/simple, https://us-python.pkg.dev/colab-wheels/public/simple/\n",
            "Collecting datasets\n",
            "  Downloading datasets-2.12.0-py3-none-any.whl (474 kB)\n",
            "\u001b[2K     \u001b[90m━━━━━━━━━━━━━━━━━━━━━━━━━━━━━━━━━━━━━━\u001b[0m \u001b[32m474.6/474.6 kB\u001b[0m \u001b[31m20.1 MB/s\u001b[0m eta \u001b[36m0:00:00\u001b[0m\n",
            "\u001b[?25hRequirement already satisfied: numpy>=1.17 in /usr/local/lib/python3.10/dist-packages (from datasets) (1.22.4)\n",
            "Requirement already satisfied: pyarrow>=8.0.0 in /usr/local/lib/python3.10/dist-packages (from datasets) (9.0.0)\n",
            "Collecting dill<0.3.7,>=0.3.0 (from datasets)\n",
            "  Downloading dill-0.3.6-py3-none-any.whl (110 kB)\n",
            "\u001b[2K     \u001b[90m━━━━━━━━━━━━━━━━━━━━━━━━━━━━━━━━━━━━━━\u001b[0m \u001b[32m110.5/110.5 kB\u001b[0m \u001b[31m14.2 MB/s\u001b[0m eta \u001b[36m0:00:00\u001b[0m\n",
            "\u001b[?25hRequirement already satisfied: pandas in /usr/local/lib/python3.10/dist-packages (from datasets) (1.5.3)\n",
            "Requirement already satisfied: requests>=2.19.0 in /usr/local/lib/python3.10/dist-packages (from datasets) (2.27.1)\n",
            "Requirement already satisfied: tqdm>=4.62.1 in /usr/local/lib/python3.10/dist-packages (from datasets) (4.65.0)\n",
            "Collecting xxhash (from datasets)\n",
            "  Downloading xxhash-3.2.0-cp310-cp310-manylinux_2_17_x86_64.manylinux2014_x86_64.whl (212 kB)\n",
            "\u001b[2K     \u001b[90m━━━━━━━━━━━━━━━━━━━━━━━━━━━━━━━━━━━━━━\u001b[0m \u001b[32m212.5/212.5 kB\u001b[0m \u001b[31m28.3 MB/s\u001b[0m eta \u001b[36m0:00:00\u001b[0m\n",
            "\u001b[?25hCollecting multiprocess (from datasets)\n",
            "  Downloading multiprocess-0.70.14-py310-none-any.whl (134 kB)\n",
            "\u001b[2K     \u001b[90m━━━━━━━━━━━━━━━━━━━━━━━━━━━━━━━━━━━━━━\u001b[0m \u001b[32m134.3/134.3 kB\u001b[0m \u001b[31m15.9 MB/s\u001b[0m eta \u001b[36m0:00:00\u001b[0m\n",
            "\u001b[?25hRequirement already satisfied: fsspec[http]>=2021.11.1 in /usr/local/lib/python3.10/dist-packages (from datasets) (2023.4.0)\n",
            "Collecting aiohttp (from datasets)\n",
            "  Downloading aiohttp-3.8.4-cp310-cp310-manylinux_2_17_x86_64.manylinux2014_x86_64.whl (1.0 MB)\n",
            "\u001b[2K     \u001b[90m━━━━━━━━━━━━━━━━━━━━━━━━━━━━━━━━━━━━━━━━\u001b[0m \u001b[32m1.0/1.0 MB\u001b[0m \u001b[31m52.0 MB/s\u001b[0m eta \u001b[36m0:00:00\u001b[0m\n",
            "\u001b[?25hCollecting huggingface-hub<1.0.0,>=0.11.0 (from datasets)\n",
            "  Downloading huggingface_hub-0.15.1-py3-none-any.whl (236 kB)\n",
            "\u001b[2K     \u001b[90m━━━━━━━━━━━━━━━━━━━━━━━━━━━━━━━━━━━━━━\u001b[0m \u001b[32m236.8/236.8 kB\u001b[0m \u001b[31m24.2 MB/s\u001b[0m eta \u001b[36m0:00:00\u001b[0m\n",
            "\u001b[?25hRequirement already satisfied: packaging in /usr/local/lib/python3.10/dist-packages (from datasets) (23.1)\n",
            "Collecting responses<0.19 (from datasets)\n",
            "  Downloading responses-0.18.0-py3-none-any.whl (38 kB)\n",
            "Requirement already satisfied: pyyaml>=5.1 in /usr/local/lib/python3.10/dist-packages (from datasets) (6.0)\n",
            "Requirement already satisfied: attrs>=17.3.0 in /usr/local/lib/python3.10/dist-packages (from aiohttp->datasets) (23.1.0)\n",
            "Requirement already satisfied: charset-normalizer<4.0,>=2.0 in /usr/local/lib/python3.10/dist-packages (from aiohttp->datasets) (2.0.12)\n",
            "Collecting multidict<7.0,>=4.5 (from aiohttp->datasets)\n",
            "  Downloading multidict-6.0.4-cp310-cp310-manylinux_2_17_x86_64.manylinux2014_x86_64.whl (114 kB)\n",
            "\u001b[2K     \u001b[90m━━━━━━━━━━━━━━━━━━━━━━━━━━━━━━━━━━━━━━\u001b[0m \u001b[32m114.5/114.5 kB\u001b[0m \u001b[31m13.7 MB/s\u001b[0m eta \u001b[36m0:00:00\u001b[0m\n",
            "\u001b[?25hCollecting async-timeout<5.0,>=4.0.0a3 (from aiohttp->datasets)\n",
            "  Downloading async_timeout-4.0.2-py3-none-any.whl (5.8 kB)\n",
            "Collecting yarl<2.0,>=1.0 (from aiohttp->datasets)\n",
            "  Downloading yarl-1.9.2-cp310-cp310-manylinux_2_17_x86_64.manylinux2014_x86_64.whl (268 kB)\n",
            "\u001b[2K     \u001b[90m━━━━━━━━━━━━━━━━━━━━━━━━━━━━━━━━━━━━━━\u001b[0m \u001b[32m268.8/268.8 kB\u001b[0m \u001b[31m17.2 MB/s\u001b[0m eta \u001b[36m0:00:00\u001b[0m\n",
            "\u001b[?25hCollecting frozenlist>=1.1.1 (from aiohttp->datasets)\n",
            "  Downloading frozenlist-1.3.3-cp310-cp310-manylinux_2_5_x86_64.manylinux1_x86_64.manylinux_2_17_x86_64.manylinux2014_x86_64.whl (149 kB)\n",
            "\u001b[2K     \u001b[90m━━━━━━━━━━━━━━━━━━━━━━━━━━━━━━━━━━━━━━\u001b[0m \u001b[32m149.6/149.6 kB\u001b[0m \u001b[31m15.6 MB/s\u001b[0m eta \u001b[36m0:00:00\u001b[0m\n",
            "\u001b[?25hCollecting aiosignal>=1.1.2 (from aiohttp->datasets)\n",
            "  Downloading aiosignal-1.3.1-py3-none-any.whl (7.6 kB)\n",
            "Requirement already satisfied: filelock in /usr/local/lib/python3.10/dist-packages (from huggingface-hub<1.0.0,>=0.11.0->datasets) (3.12.0)\n",
            "Requirement already satisfied: typing-extensions>=3.7.4.3 in /usr/local/lib/python3.10/dist-packages (from huggingface-hub<1.0.0,>=0.11.0->datasets) (4.5.0)\n",
            "Requirement already satisfied: urllib3<1.27,>=1.21.1 in /usr/local/lib/python3.10/dist-packages (from requests>=2.19.0->datasets) (1.26.15)\n",
            "Requirement already satisfied: certifi>=2017.4.17 in /usr/local/lib/python3.10/dist-packages (from requests>=2.19.0->datasets) (2022.12.7)\n",
            "Requirement already satisfied: idna<4,>=2.5 in /usr/local/lib/python3.10/dist-packages (from requests>=2.19.0->datasets) (3.4)\n",
            "Requirement already satisfied: python-dateutil>=2.8.1 in /usr/local/lib/python3.10/dist-packages (from pandas->datasets) (2.8.2)\n",
            "Requirement already satisfied: pytz>=2020.1 in /usr/local/lib/python3.10/dist-packages (from pandas->datasets) (2022.7.1)\n",
            "Requirement already satisfied: six>=1.5 in /usr/local/lib/python3.10/dist-packages (from python-dateutil>=2.8.1->pandas->datasets) (1.16.0)\n",
            "Installing collected packages: xxhash, multidict, frozenlist, dill, async-timeout, yarl, responses, multiprocess, huggingface-hub, aiosignal, aiohttp, datasets\n",
            "Successfully installed aiohttp-3.8.4 aiosignal-1.3.1 async-timeout-4.0.2 datasets-2.12.0 dill-0.3.6 frozenlist-1.3.3 huggingface-hub-0.15.1 multidict-6.0.4 multiprocess-0.70.14 responses-0.18.0 xxhash-3.2.0 yarl-1.9.2\n"
          ]
        }
      ],
      "source": [
        "!pip install datasets"
      ]
    },
    {
      "cell_type": "code",
      "source": [
        "# Let's import the library. We typically only need at most two methods:\n",
        "from datasets import list_datasets, load_dataset\n",
        "\n",
        "from pprint import pprint\n",
        "\n",
        "import pandas as pd\n",
        "\n",
        "import re\n",
        "\n",
        "import numpy as np\n",
        "\n",
        "import matplotlib.pyplot as plt\n",
        "\n",
        "import seaborn as sns"
      ],
      "metadata": {
        "id": "JwVWC2v0Vpdi"
      },
      "execution_count": null,
      "outputs": []
    },
    {
      "cell_type": "code",
      "source": [
        "dataset = load_dataset(\"MetroCat/HEBREW-MIL-CLEAN\")"
      ],
      "metadata": {
        "colab": {
          "base_uri": "https://localhost:8080/",
          "height": 232,
          "referenced_widgets": [
            "829b1da8c98a494cab8a542edd040b1b",
            "da1ce4db106846d6b57d992e607061c6",
            "3ecc11bb254441609758d34408f793f7",
            "71869005bb4d4f16b902f71df777e9f3",
            "9c0f38c73f364629ac108339c883a85c",
            "118b4d1246b74c83aa6bf15d75b4cc55",
            "972099124bd94ee3b72b83a36bd3f468",
            "2cfad55a9156469a89d03448e045fea6",
            "2d9799d7363a449a94200eb270776f96",
            "4c8e4de15a4c472ba07ffb2ef0bc7c0a",
            "5231e1cbc1604d119869f12d0d9ecea8",
            "cc2488ed479144ca965ce0b297a88ce3",
            "c583603b32614495bcece3ba0bec2dc9",
            "971ed2eb82b74a19a3a68597fb5dd434",
            "87983b255b934dd799f3b321f10cc27d",
            "beecb85546a14c1fa4b40a145948f02f",
            "c24d6e0e0af64020bacdc1bc277ef687",
            "aebad2bcbf5443c5a2732f35c419e1ca",
            "1e3b1625bca64cff9a5f0951feccecb8",
            "7fa68c6d3cc74a359910bbc54c2f6de6",
            "5db83c54b624435babd17da2b2131cde",
            "4a7052ee7a70450ea95114efcab1c827",
            "08a27478a1bb4f3dab91c37e75638fe2",
            "79d7b2698165402891a1bb790be0c962",
            "7e6931a849764015a954d8df2a234a28",
            "054977000ddf4bd6b569a089bc8ecc37",
            "d1ff641bb4e041ac990c74170a094e99",
            "b586df11d02541ad911d394cddc35e0f",
            "a253f18bbb6c48898847ea4065e5ede0",
            "718c3b2748d5424bb3969e83c2a559f2",
            "14fd608c7e8049c98792f5f5c1b092aa",
            "b45f6b84d9e64675b657bf06581646df",
            "e867d1f519d64064a77f4a3e539358ce",
            "8a87f75f6d614483a8dc6fa7a8f5d09d",
            "3f3dd56f6bda4bd193c6482870cc9e24",
            "2cca5b6cc5ea4ca3ba6038b5dc21ea07",
            "4f132cd0fac8436ca08bfd55b6987360",
            "d0f1c834e8a34d9cb6204ac30a1e4e33",
            "645e20f3701f44669c23787be58b5309",
            "8499406927cd4b338f9b6df141485d08",
            "e86f16c075164254b71a31ef198db767",
            "b3bba2c0dde24362a90b012429b547d4",
            "1ca7e6f2081743bdb5a46950b3b7ea12",
            "043eb60ae7d94c3fb5464d512525fb18",
            "78b2ff2d9ece4a0187518d849d37cbb8",
            "18959535adbb4b2ca17b5fb565381aad",
            "4836554b46b646feae3ebcaa9da1a68a",
            "7b431be7024545478311c88b5b3e53d4",
            "9d0c9f3faea941f787a9d4bde09d499d",
            "531b3d993a4f48fabc917986b2f8be88",
            "cded6738648640a483d0e4c37933ddd0",
            "e096e20f851c4f639032ae844caadcb0",
            "2d21bde1d7b34fca91e85d3b75f57513",
            "e092bae631f24117aa1c8c16da8c9eff",
            "d775f89f77154c03b6ccda8ad7576b5f",
            "927c2656f09b4d6f936a0628f19f5bea",
            "896ca9d441cf436e9f2a70fe23de70d8",
            "ae9e424d2fe044cc9474ef7b1f2b4d65",
            "faa622a658fe4ed8afd19e616bef7b5b",
            "5b756a4cff6843e08f9fa58046718da8",
            "225e0b1899b44428a9901f4188a7b783",
            "cbfcde95c29f4f109773bc99dbcd6a3e",
            "7a7c9fe47175465ab502c104df462d89",
            "e68476fabf9643aaaec9e8b9ad4eb25a",
            "ec006997a06f42b5873bf401b270515f",
            "f157f363e9434c879fac7d718a4af073"
          ]
        },
        "id": "87-tuwyYVxFC",
        "outputId": "317c4495-51d5-40d5-ffa5-07deabca544c"
      },
      "execution_count": null,
      "outputs": [
        {
          "output_type": "display_data",
          "data": {
            "text/plain": [
              "Downloading readme:   0%|          | 0.00/21.0 [00:00<?, ?B/s]"
            ],
            "application/vnd.jupyter.widget-view+json": {
              "version_major": 2,
              "version_minor": 0,
              "model_id": "829b1da8c98a494cab8a542edd040b1b"
            }
          },
          "metadata": {}
        },
        {
          "output_type": "stream",
          "name": "stdout",
          "text": [
            "Downloading and preparing dataset csv/MetroCat--HEBREW-MIL-CLEAN to /root/.cache/huggingface/datasets/MetroCat___csv/MetroCat--HEBREW-MIL-CLEAN-e6943c888a97b4e3/0.0.0/6954658bab30a358235fa864b05cf819af0e179325c740e4bc853bcc7ec513e1...\n"
          ]
        },
        {
          "output_type": "display_data",
          "data": {
            "text/plain": [
              "Downloading data files:   0%|          | 0/1 [00:00<?, ?it/s]"
            ],
            "application/vnd.jupyter.widget-view+json": {
              "version_major": 2,
              "version_minor": 0,
              "model_id": "cc2488ed479144ca965ce0b297a88ce3"
            }
          },
          "metadata": {}
        },
        {
          "output_type": "display_data",
          "data": {
            "text/plain": [
              "Downloading data:   0%|          | 0.00/203M [00:00<?, ?B/s]"
            ],
            "application/vnd.jupyter.widget-view+json": {
              "version_major": 2,
              "version_minor": 0,
              "model_id": "08a27478a1bb4f3dab91c37e75638fe2"
            }
          },
          "metadata": {}
        },
        {
          "output_type": "display_data",
          "data": {
            "text/plain": [
              "Extracting data files:   0%|          | 0/1 [00:00<?, ?it/s]"
            ],
            "application/vnd.jupyter.widget-view+json": {
              "version_major": 2,
              "version_minor": 0,
              "model_id": "8a87f75f6d614483a8dc6fa7a8f5d09d"
            }
          },
          "metadata": {}
        },
        {
          "output_type": "display_data",
          "data": {
            "text/plain": [
              "Generating train split: 0 examples [00:00, ? examples/s]"
            ],
            "application/vnd.jupyter.widget-view+json": {
              "version_major": 2,
              "version_minor": 0,
              "model_id": "78b2ff2d9ece4a0187518d849d37cbb8"
            }
          },
          "metadata": {}
        },
        {
          "output_type": "stream",
          "name": "stdout",
          "text": [
            "Dataset csv downloaded and prepared to /root/.cache/huggingface/datasets/MetroCat___csv/MetroCat--HEBREW-MIL-CLEAN-e6943c888a97b4e3/0.0.0/6954658bab30a358235fa864b05cf819af0e179325c740e4bc853bcc7ec513e1. Subsequent calls will reuse this data.\n"
          ]
        },
        {
          "output_type": "display_data",
          "data": {
            "text/plain": [
              "  0%|          | 0/1 [00:00<?, ?it/s]"
            ],
            "application/vnd.jupyter.widget-view+json": {
              "version_major": 2,
              "version_minor": 0,
              "model_id": "927c2656f09b4d6f936a0628f19f5bea"
            }
          },
          "metadata": {}
        }
      ]
    },
    {
      "cell_type": "code",
      "source": [
        "zahal_corpus_df = pd.DataFrame(dataset['train'])"
      ],
      "metadata": {
        "id": "tNbYWq7GXGUD"
      },
      "execution_count": null,
      "outputs": []
    },
    {
      "cell_type": "code",
      "source": [
        "zahal_corpus_df = zahal_corpus_df.iloc[2:]"
      ],
      "metadata": {
        "id": "xOTngeyWd03G"
      },
      "execution_count": null,
      "outputs": []
    },
    {
      "cell_type": "code",
      "source": [
        "zahal_corpus_df['context']"
      ],
      "metadata": {
        "colab": {
          "base_uri": "https://localhost:8080/"
        },
        "id": "Kk5eupS5d5DI",
        "outputId": "2c0cf3eb-cced-4f06-86a5-783bb41e558f"
      },
      "execution_count": null,
      "outputs": [
        {
          "output_type": "execute_result",
          "data": {
            "text/plain": [
              "2        בלמ\"ס \\n                    1.0101  \\nפקודות ...\n",
              "3          \\nפקודת מטכ\"ל  01.201  \"הטיפול בצה\"ל בהתקשר...\n",
              "4        בלמ\"ס \\n                    2.0103  \\nפקודות ...\n",
              "5        בלמ\"ס \\n2.0107 \\nפקודות  מטכ''ל,  1 מארס18 \\n...\n",
              "6        בלמ\"ס \\n                    32.0509  \\nפקודות...\n",
              "                              ...                        \n",
              "1070    ׀ שריון  ספטמברתוכן\\n15  תשרי התשפ\"א, ספטמבר  ...\n",
              "1071    ׀ שריון  יוליאורט מוצקין\\nביום\\nהשכבה הבוגרת ב...\n",
              "1072    ׀ שריון  ינוארתוכן\\n15  שבט התשפ\"ב, ינואר  גיל...\n",
              "1073     \\nהמכון לחקר המתודולוגיה של  \\nהמודיעין   \\n ...\n",
              "1074     בלמ\"ס  \\nפ\"מ 33.0333 \\nעודכנה ביום19.04.2020 ...\n",
              "Name: context, Length: 1073, dtype: object"
            ]
          },
          "metadata": {},
          "execution_count": 6
        }
      ]
    },
    {
      "cell_type": "code",
      "source": [
        "! git clone https://github.com/Dicta-Israel-Center-for-Text-Analysis/alephbertgimmel"
      ],
      "metadata": {
        "colab": {
          "base_uri": "https://localhost:8080/"
        },
        "id": "5ZMhGuyXeDMH",
        "outputId": "c487a733-7ee7-4b97-86d4-ad7b80bbd1e0"
      },
      "execution_count": null,
      "outputs": [
        {
          "output_type": "stream",
          "name": "stdout",
          "text": [
            "Cloning into 'alephbertgimmel'...\n",
            "remote: Enumerating objects: 30, done.\u001b[K\n",
            "remote: Counting objects: 100% (30/30), done.\u001b[K\n",
            "remote: Compressing objects: 100% (25/25), done.\u001b[K\n",
            "remote: Total 30 (delta 7), reused 23 (delta 5), pack-reused 0\u001b[K\n",
            "Unpacking objects: 100% (30/30), 508.95 KiB | 5.78 MiB/s, done.\n",
            "Filtering content: 100% (4/4), 1.96 GiB | 62.46 MiB/s, done.\n"
          ]
        }
      ]
    },
    {
      "cell_type": "code",
      "source": [
        "!pip install transformers"
      ],
      "metadata": {
        "colab": {
          "base_uri": "https://localhost:8080/"
        },
        "id": "opONOtAEgU6m",
        "outputId": "4735fcf9-2762-4cde-935f-ed96dda1b774"
      },
      "execution_count": null,
      "outputs": [
        {
          "output_type": "stream",
          "name": "stdout",
          "text": [
            "Looking in indexes: https://pypi.org/simple, https://us-python.pkg.dev/colab-wheels/public/simple/\n",
            "Collecting transformers\n",
            "  Downloading transformers-4.30.1-py3-none-any.whl (7.2 MB)\n",
            "\u001b[2K     \u001b[90m━━━━━━━━━━━━━━━━━━━━━━━━━━━━━━━━━━━━━━━━\u001b[0m \u001b[32m7.2/7.2 MB\u001b[0m \u001b[31m91.7 MB/s\u001b[0m eta \u001b[36m0:00:00\u001b[0m\n",
            "\u001b[?25hRequirement already satisfied: filelock in /usr/local/lib/python3.10/dist-packages (from transformers) (3.12.0)\n",
            "Requirement already satisfied: huggingface-hub<1.0,>=0.14.1 in /usr/local/lib/python3.10/dist-packages (from transformers) (0.15.1)\n",
            "Requirement already satisfied: numpy>=1.17 in /usr/local/lib/python3.10/dist-packages (from transformers) (1.22.4)\n",
            "Requirement already satisfied: packaging>=20.0 in /usr/local/lib/python3.10/dist-packages (from transformers) (23.1)\n",
            "Requirement already satisfied: pyyaml>=5.1 in /usr/local/lib/python3.10/dist-packages (from transformers) (6.0)\n",
            "Requirement already satisfied: regex!=2019.12.17 in /usr/local/lib/python3.10/dist-packages (from transformers) (2022.10.31)\n",
            "Requirement already satisfied: requests in /usr/local/lib/python3.10/dist-packages (from transformers) (2.27.1)\n",
            "Collecting tokenizers!=0.11.3,<0.14,>=0.11.1 (from transformers)\n",
            "  Downloading tokenizers-0.13.3-cp310-cp310-manylinux_2_17_x86_64.manylinux2014_x86_64.whl (7.8 MB)\n",
            "\u001b[2K     \u001b[90m━━━━━━━━━━━━━━━━━━━━━━━━━━━━━━━━━━━━━━━━\u001b[0m \u001b[32m7.8/7.8 MB\u001b[0m \u001b[31m106.4 MB/s\u001b[0m eta \u001b[36m0:00:00\u001b[0m\n",
            "\u001b[?25hCollecting safetensors>=0.3.1 (from transformers)\n",
            "  Downloading safetensors-0.3.1-cp310-cp310-manylinux_2_17_x86_64.manylinux2014_x86_64.whl (1.3 MB)\n",
            "\u001b[2K     \u001b[90m━━━━━━━━━━━━━━━━━━━━━━━━━━━━━━━━━━━━━━━━\u001b[0m \u001b[32m1.3/1.3 MB\u001b[0m \u001b[31m77.5 MB/s\u001b[0m eta \u001b[36m0:00:00\u001b[0m\n",
            "\u001b[?25hRequirement already satisfied: tqdm>=4.27 in /usr/local/lib/python3.10/dist-packages (from transformers) (4.65.0)\n",
            "Requirement already satisfied: fsspec in /usr/local/lib/python3.10/dist-packages (from huggingface-hub<1.0,>=0.14.1->transformers) (2023.4.0)\n",
            "Requirement already satisfied: typing-extensions>=3.7.4.3 in /usr/local/lib/python3.10/dist-packages (from huggingface-hub<1.0,>=0.14.1->transformers) (4.5.0)\n",
            "Requirement already satisfied: urllib3<1.27,>=1.21.1 in /usr/local/lib/python3.10/dist-packages (from requests->transformers) (1.26.15)\n",
            "Requirement already satisfied: certifi>=2017.4.17 in /usr/local/lib/python3.10/dist-packages (from requests->transformers) (2022.12.7)\n",
            "Requirement already satisfied: charset-normalizer~=2.0.0 in /usr/local/lib/python3.10/dist-packages (from requests->transformers) (2.0.12)\n",
            "Requirement already satisfied: idna<4,>=2.5 in /usr/local/lib/python3.10/dist-packages (from requests->transformers) (3.4)\n",
            "Installing collected packages: tokenizers, safetensors, transformers\n",
            "Successfully installed safetensors-0.3.1 tokenizers-0.13.3 transformers-4.30.1\n"
          ]
        }
      ]
    },
    {
      "cell_type": "code",
      "source": [
        "from transformers import BertTokenizer, BertForMaskedLM\n",
        "import torch\n",
        "from transformers import AutoTokenizer\n",
        "model_path = '/content/alephbertgimmel/alephbertgimmel-small/ckpt_29400--Max128Seq'\n",
        "\n",
        "old_tokenizer = BertTokenizer.from_pretrained(model_path)"
      ],
      "metadata": {
        "id": "A0ih051egGfG"
      },
      "execution_count": null,
      "outputs": []
    },
    {
      "cell_type": "code",
      "source": [
        "new_tokenizer = AutoTokenizer.from_pretrained(model_path)"
      ],
      "metadata": {
        "id": "8SLHNvqvgb4d"
      },
      "execution_count": null,
      "outputs": []
    },
    {
      "cell_type": "code",
      "source": [
        "new_tokenizer"
      ],
      "metadata": {
        "colab": {
          "base_uri": "https://localhost:8080/"
        },
        "id": "i4XyvfLErmjq",
        "outputId": "5318f7b4-41b7-4b7a-c717-7050351c51d3"
      },
      "execution_count": null,
      "outputs": [
        {
          "output_type": "execute_result",
          "data": {
            "text/plain": [
              "BertTokenizerFast(name_or_path='/content/alephbertgimmel/alephbertgimmel-small/ckpt_29400--Max128Seq', vocab_size=128000, model_max_length=1000000000000000019884624838656, is_fast=True, padding_side='right', truncation_side='right', special_tokens={'unk_token': '[UNK]', 'sep_token': '[SEP]', 'pad_token': '[PAD]', 'cls_token': '[CLS]', 'mask_token': '[MASK]'}, clean_up_tokenization_spaces=True)"
            ]
          },
          "metadata": {},
          "execution_count": 11
        }
      ]
    },
    {
      "cell_type": "code",
      "source": [
        "new_tokenizer = new_tokenizer.train_new_from_iterator(zahal_corpus_df['context'], vocab_size=128000)"
      ],
      "metadata": {
        "id": "hE14feIsrZgs"
      },
      "execution_count": null,
      "outputs": []
    },
    {
      "cell_type": "code",
      "source": [
        "new_tokenizer"
      ],
      "metadata": {
        "colab": {
          "base_uri": "https://localhost:8080/"
        },
        "id": "_5Ddr1Lnqfc-",
        "outputId": "585abb73-da57-4d66-d13f-fd0fb4dbf8c5"
      },
      "execution_count": null,
      "outputs": [
        {
          "output_type": "execute_result",
          "data": {
            "text/plain": [
              "BertTokenizerFast(name_or_path='/content/alephbertgimmel/alephbertgimmel-small/ckpt_29400--Max128Seq', vocab_size=128000, model_max_length=1000000000000000019884624838656, is_fast=True, padding_side='right', truncation_side='right', special_tokens={'unk_token': '[UNK]', 'sep_token': '[SEP]', 'pad_token': '[PAD]', 'cls_token': '[CLS]', 'mask_token': '[MASK]'}, clean_up_tokenization_spaces=True)"
            ]
          },
          "metadata": {},
          "execution_count": 13
        }
      ]
    },
    {
      "cell_type": "code",
      "source": [
        "new_vocab = new_tokenizer.get_vocab().keys()"
      ],
      "metadata": {
        "id": "c0DiMM8Br5Dd"
      },
      "execution_count": null,
      "outputs": []
    },
    {
      "cell_type": "code",
      "source": [
        "zahal_corpus_df['encoded'] = zahal_corpus_df['context'].map(lambda x: new_tokenizer.encode(x))"
      ],
      "metadata": {
        "id": "WzkXOUiDtRmJ"
      },
      "execution_count": null,
      "outputs": []
    },
    {
      "cell_type": "code",
      "source": [
        "all_words = np.concatenate(zahal_corpus_df['encoded'].values)"
      ],
      "metadata": {
        "id": "fL-xZY8_u72D"
      },
      "execution_count": null,
      "outputs": []
    },
    {
      "cell_type": "code",
      "source": [
        "len(all_words)/1000000"
      ],
      "metadata": {
        "id": "v25tcwDfvj5S",
        "colab": {
          "base_uri": "https://localhost:8080/"
        },
        "outputId": "6124c019-b36d-4e1e-bc64-7093c29b1d78"
      },
      "execution_count": 37,
      "outputs": [
        {
          "output_type": "execute_result",
          "data": {
            "text/plain": [
              "26.604419"
            ]
          },
          "metadata": {},
          "execution_count": 37
        }
      ]
    },
    {
      "cell_type": "code",
      "source": [
        "list(old_vocab)[0]"
      ],
      "metadata": {
        "colab": {
          "base_uri": "https://localhost:8080/",
          "height": 35
        },
        "id": "ShfPBXm11jbQ",
        "outputId": "0f3420b5-0526-4ca2-b192-430b305c1457"
      },
      "execution_count": 67,
      "outputs": [
        {
          "output_type": "execute_result",
          "data": {
            "text/plain": [
              "'[UNK]'"
            ],
            "application/vnd.google.colaboratory.intrinsic+json": {
              "type": "string"
            }
          },
          "metadata": {},
          "execution_count": 67
        }
      ]
    },
    {
      "cell_type": "code",
      "source": [
        "from collections import Counter\n",
        "old_vocab = list(old_tokenizer.get_vocab().keys())\n",
        "token_counts = Counter(all_words)\n",
        "# Convert token counts to NumPy arrays\n",
        "tokens_np = np.array([new_tokenizer.decode(x) for x in list(token_counts.keys())])\n",
        "counts_np = np.array(list(token_counts.values()))\n",
        "\n",
        "# Exclude tokens from the exclude list\n",
        "exclude_mask = np.isin(tokens_np, old_vocab, invert=True)\n",
        "filtered_tokens = tokens_np[exclude_mask]\n",
        "filtered_counts = counts_np[exclude_mask]\n",
        "\n",
        "# Sort tokens by frequency in descending order\n",
        "sorted_indices = np.argsort(filtered_counts)[::-1]\n",
        "sorted_tokens = filtered_tokens[sorted_indices]\n",
        "sorted_counts = filtered_counts[sorted_indices]\n",
        "\n",
        "# Select the top 100,000 tokens\n",
        "top_tokens = sorted_tokens[:100000]\n",
        "top_counts = sorted_counts[:100000]\n"
      ],
      "metadata": {
        "id": "llwc_z3GvL67"
      },
      "execution_count": 68,
      "outputs": []
    },
    {
      "cell_type": "code",
      "source": [
        "len(sorted_tokens)"
      ],
      "metadata": {
        "colab": {
          "base_uri": "https://localhost:8080/"
        },
        "id": "y4av8iU4zl4m",
        "outputId": "fa005c57-426f-4cd7-deb2-1be092020af3"
      },
      "execution_count": 69,
      "outputs": [
        {
          "output_type": "execute_result",
          "data": {
            "text/plain": [
              "58272"
            ]
          },
          "metadata": {},
          "execution_count": 69
        }
      ]
    },
    {
      "cell_type": "code",
      "source": [
        "top_tokens = sorted_tokens[:1000]\n",
        "top_counts = sorted_counts[:1000]\n",
        "top_tokens"
      ],
      "metadata": {
        "colab": {
          "base_uri": "https://localhost:8080/"
        },
        "id": "ne3BGr5p24v-",
        "outputId": "7b14688a-a604-429f-f4b1-8e0e01851543"
      },
      "execution_count": 74,
      "outputs": [
        {
          "output_type": "execute_result",
          "data": {
            "text/plain": [
              "array(['nn', 'היתד', 'הקבילה', 'בלמ', 'האוירית', 'אוירית', 'לטייסת',\n",
              "       'האוירי', 'נם', 'הקובל', 'משהב', 'מטוסו', 'nnn', 'אוירי', 'rl',\n",
              "       'המודיעינית', 'למטוסי', '##rn', 'lr', 'tnn', '##ln', 'הסילון',\n",
              "       '7u', 'nrn', 'ntn', 'yn', 'הטייסות', 'lnn', 'מיגים', 'מס1974',\n",
              "       'הגרילה', 'הפנטום', 'n7', 'המפציצים', 'המבצעיות', 'טליק', 'ממטוסי',\n",
              "       '7y', 'לטייסים', 'indb', 'הפיקודי', 'המירז', 'כטייס', 'מודיעינית',\n",
              "       'המיגים', 'האויד', 'דות', 'למפקדים', 'במפקדת', 'שהמטוס', 'הנווט',\n",
              "       'הלהק', 'הפרופלר', 'המפציץ', 'rnn', 'הלין', 'nln', 'לתעופה',\n",
              "       'מפציצי', 'lln', 'המריאו', 'yl', 'לקבילות', 'המלש', 'yt', '##tl',\n",
              "       'כמטוס', 'ומטוסי', 'מאך', 'המצנח', 'והמטוס', 'הביטחו', 'הטקטית',\n",
              "       'היירוט', '1r', 'מיראז', 'סילוני', '1n', 'טסנו', 'והתקשוב',\n",
              "       'המבצעיים', 'וכוי', '1t', 'הטקטי', 'nnt', 'המיראז', 'lnl',\n",
              "       'פיקודי', 'מס1957', 'ibid', 'uj', 'מירז', 'strategic', 'trn',\n",
              "       'naval', 'מפקדות', 'בפקודות', 'iln', 'אוירון', 'nil', 'yr',\n",
              "       'המכונאים', '##הי', 'lll', 'ltn', 'הצידוק', 'הליקופטר', 'lx',\n",
              "       'מס1964', 'הופלו', 'הסוריים', 'גף', 'סקייהוק', 'מס1958', 'בבסיסי',\n",
              "       'המערכתית', 'ההליקופטר', 'הסקייהוק', 'צות', 'nnr', 'השילוביות',\n",
              "       'טיסתו', 'האוירון', 'האפסנאות', 'nll', 'lrn', 'rnx', 'החרטום',\n",
              "       'גייסות', 'המתודולוגיה', '##tu', 'מדינתיים', 'מסוסי', 'האופרטיבית',\n",
              "       'יחידתו', 'rrn', 'ntu', 'בקבילה', 'בתעופה', 'הנקבל', '##lr', 'nnl',\n",
              "       'למפקדי', 'טרטור', 'lnt', 'פקודיו', 'maritime', 'הנגדים', 'םע',\n",
              "       'הגיחות', 'המעוזים', 'r1', 'שילוביות', '##jn', 'tln', 'rln', 'tnl',\n",
              "       'ביחידתו', '##תמ', 'מטוסינו', 'trr', 'הפאנטום', 'תוה', 'למסוק',\n",
              "       'ttn', 'ממפקד', '##xn', 'לטיסת', 'רקיטות', 'כאשד', 'למפקדת',\n",
              "       'הפיקודית', 'חרטום', 'זרועי', 'מוטס', 'ההגאים', 'מספד',\n",
              "       'האופרטיבי', '##הב', 'מס1971', 'i1', 'מס1966', '##dt', 'מס1976',\n",
              "       'מס1969', '1y', 'המפקדות', 'ירוט', 'ספיטפייר', 'לתובלה', 'הכנפים',\n",
              "       'מס1970', 'n1', 'בקבילות', 'להמראה', 'מקדונל', 'קורם', 'האלחוט',\n",
              "       'השלישות', 'מודיעיניים', 'ועיקרי', 'פיקודית', 'הדקוטה', 'jn',\n",
              "       'nrr', 'מס1972', 'lf', 'מסוס', 'מכונאים', 'המכונאי', '7n', 'בטילי',\n",
              "       'הקצונה', 'פאנטום', 'ניות', 'ומפקדים', 'הליקופטרים', 'בנציבות',\n",
              "       'הגף', 'nlt', 'rtn', 'jl', 'החדישים', '##גיליון', 'הסילוני',\n",
              "       'מבירור', 'ומטוס', 'בבסיסים', 'הרוטור', 'tyn', 'הרקיטה', 'הפלוגות',\n",
              "       'הטק', '##td', 'העילוי', 'nru', 'jt', 'ntt', 'מטייסת', 'האמל',\n",
              "       'הכשירות', 'בפצצות', 'הודגש', 'לקצונה', 'המנהלה', 'x7', 'המצריות',\n",
              "       'לכנף', 'בסים', 'החילי', 'ntr', 'אוירונים', 'מס1984', 'clk',\n",
              "       'הקובלת', 'מהירותו', 'מס1967', 'מודיעיניות', 'קברניט', 'בטנקים',\n",
              "       't7', 'warfare', 'התיכנון', 'הקורם', '##במ', 'אופרטיבית', 'nrt',\n",
              "       'הסדירים', 'trt', 'lrl', '##בשנת', 'בוכנה', 'הקוברה', 'nrl',\n",
              "       'ליירוט', 'הקרקעי', 'ופקודות', 'הלביא', 'מס1993', '1l', 'המערכתי',\n",
              "       'מפקר', 'ממטוסים', 'שידוד', 'גדנ', 'cpl', 'במבצעי', 'האוקינוס',\n",
              "       'המוטס', 'הקיברנטי', 'הארמיה', 'ilt', 'שהטייס', 'טוסים',\n",
              "       'הצטיידות', 'itn', 'nlu', 'היסעור', 'tj', 'םג', 'כנפים', 'בטווחים',\n",
              "       'הבטאון', 'ההרקולס', 'תפיסתי', 'הטסת', 'מבסיסי', 'אוויריים',\n",
              "       'ההשתנות', 'לטיל', 'דוקטרינה', 'החילות', 'החטיבתי', 'צוותות',\n",
              "       'וטילים', '##הפ', 'הנחתת', 'תידלוק', 'מס1961', 'והמפקדים',\n",
              "       'מהמטוסים', 'הכפיר', 'המערכים', 'rnt', 'הסובייטיים', 'הבלק',\n",
              "       'דאסו', 'שמטוס', 'tdn', 'בלוחמת', 'rnr', 'בלוחמה', 'ryn', 'ldn',\n",
              "       'לסקוב', 'affairs', '1p', '##vn', 'לטייסות', 'משימותיו', 'llt',\n",
              "       'מוסקיטו', 'זרועית', 'והבקרה', 'nlr', 'ארטילרית', 'הווטור', 'ההוק',\n",
              "       't1', 'ביעף', 'נסיקה', 'כלהלן', 'והמטוסים', '##תפ', 'שמפקד',\n",
              "       'הפיקודים', '##i1', 'למפקדה', 'המסרשמיט', 'הקרבית', 'מס1983', 'yd',\n",
              "       'לטייסי', 'האפאצ', 'במפקדה', 'וקציני', 'rnl', '5497731',\n",
              "       'אופרטיבי', 'trl', 'החבריה', 'ווטור', 'הגח', 'מסוסים', 'טות',\n",
              "       'לארשי', 'לגיחה', 'המרחבי', 'לטנק', 'tnr', 'הפליגה', 'סובייטיים',\n",
              "       'dil', 'הפנטומים', 'tll', '##הנ', 'תיים', 'מס1994', 'פיקודיים',\n",
              "       'כרעם', '1ה', 'שהמצרים', 'העיראקים', 'אויריים', 'ראל', 'פומרנץ',\n",
              "       'מטיס', 'סוחוי', 'לקציני', 'vn', '1u', 'אוגדות', 'להפצצה', '3ה',\n",
              "       '##מפקד', 'ביצועיו', 'פרופלר', 'בהיבטי', '##לפ', 'rll', 'פלסטיניה',\n",
              "       'החרמ', '5497019', 'וטילי', 'רפיד', 'התדריך', 'ril', 'במפקדות',\n",
              "       'רפידים', 'במסוקים', 'פיתוחו', 'בתחו', 'מוצבי', 'ברפידים', 'כושרו',\n",
              "       'vt', 'usשלחו', 'אחדי', 'פגזי', 'מהאויר', '##nil', 'קות',\n",
              "       'מושביים', 'שהאויב', 'הראשו', 'מס1965', 'רקיטה', 'והטייס',\n",
              "       'ובמילואים', '##rnn', 'אווירון', 'המודיעיניים', 'qq', 'nur',\n",
              "       'מס1981', 'ראמאללה', 'ומפקדי', 'מטוסיו', '##הכ', 'קלוב', 'lnr',\n",
              "       'א1', 'בוינג', 'ברישומי', 'ההטסה', 'אדמסקי', 'rv', 'בפעולתה',\n",
              "       'לחימת', 'rrr', '##jl', '##טנ', 'ןיב', 'מוטסים', '7t', 'מטופי',\n",
              "       'nnu', '##המרחב', 'rlt', 'מס1963', 'בחרטום', '##tnn', 'לטווחים',\n",
              "       'ltt', 'לחירום', 'וסא', 'המיסטר', 'ללוחמת', 'lun', 'רכת', '##rp',\n",
              "       'מס1980', 'r7', 'מקרפ', 'לפו', 'בעמי', 'ורקטות', 'הבוכנה', 'מחי',\n",
              "       'קצונה', 'קרביות', 'מסרשמיט', 'drl', 'מצנחים', 'ntl', '##שנ',\n",
              "       'tnx', 'סילוניים', 'תפיסתית', 'שמטוסי', 'nyn', '##lnn', 'פקודיהם',\n",
              "       '##לאחר', 'התקפיות', 'יוודא', 'unn', 'מטוסיה', 'במשהב', 'nly',\n",
              "       'בכוון', 'ilr', 'דרגי', 'בגיחה', 'lly', 'lry', 'llu', 'המעוז',\n",
              "       'lty', 'בתמרון', 'ריים', 'המברק', 'iy', 'לתקיפות', '7r', 'סואר',\n",
              "       'להטסת', 'להפצצת', 'iu', '##אסטרטגיה', 'אפסניה', 'שהמטוסים', 'y1',\n",
              "       'השריונאים', 'דיוויזיה', '##שמ', 'ובמלחמת', 'האוירונים', 'הפגזים',\n",
              "       'צוותו', 'לתעלת', 'המעופפים', 'המרחביים', 'בעיתות', 'אויד',\n",
              "       'טקטיות', 'וטייס', 'ובצה', 'בתיכנון', 'מנועיים', 'טית', 'הריינג',\n",
              "       'nty', 'המזח', 'מחטיבה', 'טולקובסקי', 'וטס', 'לרמ', 'וo',\n",
              "       'האוגדות', 'שטסו', 'ltl', 'החפ', 'הסטיק', 'מטייסי', 'בשנת19',\n",
              "       'מהיחידה', 'llr', '##רני', 'dit', 'xtn', 'לקובל', 'dnn',\n",
              "       'למערכתmlm', 'רר', 'פרקד', 'במטוסו', 'ברונפלד', 'ממפקדי', 'שגי',\n",
              "       'גפגפה', '##חמ', 'לכשירות', '##9n', 'ההצנחה', 'tlt', '4713402',\n",
              "       'תימרון', 'שריונאים', 'למלש', 'לעורף', 'המוטסים', 'rtt',\n",
              "       'ההצטיידות', 'חטיבתי', '##7n', 'defence', '7w', 'ההתעצמות',\n",
              "       'בנחיתה', 'hn', 'הדאון', '2ה', 'מצריות', 'ההפלות', 'עמ1',\n",
              "       'סיקורסקי', 'בטייסות', 'מס1996', 'לנחיתת', 'הצפוןעיונים', 'הזירות',\n",
              "       'הלשממה', 'מהלומה', 'כתו', '##טד', 'ild', '20ה', 'לבסיסו',\n",
              "       'באוגדה', 'משוריינת', 'באלחוט', 'הסוחוי', 'ליות', 'הטלטלה',\n",
              "       'התדריכים', 'ndn', 'םי', 'קצי', 'מערכותה', 'גיוסם', 'מנועו', 'nni',\n",
              "       'rtr', 'במהי', '##סב', 'המדחס', 'לטילים', 'עגילה', '##רור', 'nyl',\n",
              "       'הוטסו', '5ה', 'פרלון', 'בתותחים', 'הנסע', 'גיחת', 'הסדירות',\n",
              "       'האוויריות', 'מגח', 'navy', 'הערכתו', 'למטכ', 'nyt', 'r9',\n",
              "       'לעברנו', '##תור', 'הסטי', 'מברקים', 'תעופתי', 'nyr',\n",
              "       'הטרנספורמציה', 'בתותח', 'האוי', 'הטקטיים', 'lld', 'והטייסים',\n",
              "       'והתו', 'בהמראה', 'קלאוזביץ', 'לטנקים', '7ה', 'משימתי', 'הכשרתם',\n",
              "       'lrr', 'והפצצה', 'ופיקוד', 'משימתם', 'ltu', 'ili', 'tnu', 'וגדוד',\n",
              "       'וההדרכה', 'המברקים', 'rj', 'תקי', 'הפעלתם', 'לקבילה', 'התעו',\n",
              "       'ntx', 'לפלוגה', '##קרב', 'התרומם', 'הוטס', '4ה', 'המראנו', 'דרשמ',\n",
              "       'tyl', 'במנועים', 'drn', 'האנתפאדה', 'עוצבות', 'לממצאי',\n",
              "       'מהטייסים', 'ופצצות', 'לתמרון', 'לכידות', 'כטייסות', 'דואה', 'irn',\n",
              "       'בךגוריון', '7v', 'doctrine', 'שהצי', 'lur', 'הלינו', 'התורכיים',\n",
              "       'מקלעי', '##דמ', 'הלכידות', 'ההליקופטרים', 'מפקדיהם', 'מיסטרים',\n",
              "       '##lp', 'שאמ', 'uu', 'הספיטפ', 'וויטני', 'וגרילה', 'nnrn', 'תוחוכ',\n",
              "       'dmt', '##nc', 'מאויר', 'םה', 'הגדעוני', 'ובחיל', 'הטסים', 'armed',\n",
              "       'והתמ', 'המוסקיטו', 'קרצ', 'ttt', 'בגזרות', 'שהיתר', 'מס1979',\n",
              "       'rur', 'תשו', 'וסו', 'ןוחטיבה', 'הוזנקו', '##xr', 'urr', 'itl',\n",
              "       'מנועיו', 'לנסוק', 'ttl', 'והתנ', 'מקמ', 'ltnn', 'למפקדו', 'lrt',\n",
              "       'בהתייחסותו', 'טיסתם', 'טופולב', 'דוליטל', 'בהטסת', 'הקנדים',\n",
              "       'המרכב', '##בצ', 'ומהמ', 'ilu', 'והראוי', 'מוסקווה', 'אויריות',\n",
              "       '##nnn', '7x', 'דוגלס', 'האבדות', 'למשהב', 'תמרונים', 'ברכש',\n",
              "       'הגדודי', 'בפרוץ', 'ההפלה', 'חירו', 'טייסו', 'הלופטוואפה', 'tyt',\n",
              "       'ji', 'ההתגוננות', 'פוגה', 'מטוסיהם', 'ntnn', 'dnt', 'נווטים',\n",
              "       'nul', 'ךלהמב', 'והסייר', 'בדרגים', '##lil', 'החטיבתית', 'מקצין',\n",
              "       'המתמרנים', 'זוריק', 'הנורוקה', 'rit', 'הקברניטים', 'מילין',\n",
              "       'llnn', 'nny', 'תעו', 'וחזבאללה', 'nxt', 'שדרגתו', 'בהיערכות',\n",
              "       'רוטור', 'החיילי', '19ה', 'להיערכות', 'םא', 'קנטרה', 'טייסיו',\n",
              "       '##טמ', 'והלוגיסטיקה', 'שמישים', 'nnd', 'ונחיתה', 'tnd',\n",
              "       '3555המרכז', 'המקו', 'כטייסים', 'צליפה', 'הפאנטומים', 'ntnt',\n",
              "       'המיתלה', 'ואגף', 'לעליונות', '##תנו', 'lnu', 'lyl', 'המגויסים',\n",
              "       'rrt', 'איוש', 'הפייפר', 'בהקשרי', 'הספיטפייר', 'במאפייני', 't9',\n",
              "       '##היה', 'יאירי', 'ולנחות', 'התידלוק', 'princeton', '##dil',\n",
              "       'האמברגו', 'מהטייסת', 'yp', 'nry', 'משגרים', '##בנ', 'uy',\n",
              "       'והאימונים', 'uln', 'dtn', 'א2', 'סדורים', 'קצינות', '1ב',\n",
              "       'הנווטים', 'rrl', 'irr', 'inl', 'תוי', 'הלוויינים', 'הטס', 'הקלוב',\n",
              "       'מיתקן', 'achgd', 'לשחוק', 'l7', 'צעי', '##קפ', 'nlln', 'הקרקעיים',\n",
              "       'xu', 'התימרון', 'הירוט', 'הפיקודיים', 'ממוכן', 'להטסה',\n",
              "       'באפגניסטאן', 'ביקורופא', 'תיפעול', 'גדו', 'פאיד', 'בתדריך',\n",
              "       'שווימר', 'והלוחמים', 'lul', 'בחזיתות', 'פנטומים', 'ltr', 'הקליע',\n",
              "       '8ה', 'לטילי', 'במיג', '##rg', 'npn', 'hms', '##p1', 'מוכוון',\n",
              "       'בטים', 'ילו', 'נסתיימה', 'סחב', 'הסמג', 'והפיקוד', 'כשו', 'למיג',\n",
              "       'שהמפקד', 'להתקפת', 'לצבאות', 'אופרטיביות', '##1r', 'הנידמה',\n",
              "       'הנסיקה', 'בקוקפיט', 'וויינט', '##לפי', 'שהופל', '2ב', '7l', 'תקו',\n",
              "       'ביטחו', 'רשתיות', '##בפ', 'drll', 'המראת', 'r11', 'אנשינו', 'dnl',\n",
              "       'היפאני', '9n', 'הפטריוט', 'בחימוש', 'מזומנות', 'שטייס', 'הבואינג',\n",
              "       'משגרי', '##1n', 'מירד', 'itr', 'שנעו', 'nld', 'לום', 'ולחימה',\n",
              "       'אופרטיביים', 'בצריח', 'הרקיטות', 'רומפלר', 'oo', 'האוגדתי', 'tlr',\n",
              "       'ליעף', 'הנטר', 'בגיחות', 'האויריים', 'היחידתי', 'rlr', 'לוחמיו',\n",
              "       'ryl', 'הטיסן', 'ינואר57', 'והאמצעים', 'תיהם', 'שסו', 'ליחידתו',\n",
              "       'יחידתי', 'nnx', 'לסדום', 'מאירוב', 'האויריה', 'מס58', '##jt',\n",
              "       'בהכשרות', 'הטיסו', 'למדות', 'tdl', 'אוירו', 'xru', 'ntrn', '21ה',\n",
              "       'המוראל', 'אגפי', 'ההתקפית', '##y1', '20ב', 'הטסה', 'המודיעיניות'],\n",
              "      dtype='<U19')"
            ]
          },
          "metadata": {},
          "execution_count": 74
        }
      ]
    },
    {
      "cell_type": "code",
      "source": [
        "top_tokens = sorted_tokens[:100]\n",
        "top_counts = sorted_counts[:100]\n",
        "\n",
        "# Decode and print the top tokens and their frequencies\n",
        "for token, count in zip(top_tokens, top_counts):\n",
        "    decoded_token = new_tokenizer.decode([token])\n",
        "    print(f\"{decoded_token}: {count}\")"
      ],
      "metadata": {
        "colab": {
          "base_uri": "https://localhost:8080/",
          "height": 381
        },
        "id": "6AYyHyqVzr7j",
        "outputId": "e88e2817-bf09-41af-fd7e-47020b62ed4a"
      },
      "execution_count": 73,
      "outputs": [
        {
          "output_type": "error",
          "ename": "TypeError",
          "evalue": "ignored",
          "traceback": [
            "\u001b[0;31m---------------------------------------------------------------------------\u001b[0m",
            "\u001b[0;31mTypeError\u001b[0m                                 Traceback (most recent call last)",
            "\u001b[0;32m<ipython-input-73-754ddc3a96b7>\u001b[0m in \u001b[0;36m<cell line: 5>\u001b[0;34m()\u001b[0m\n\u001b[1;32m      4\u001b[0m \u001b[0;31m# Decode and print the top tokens and their frequencies\u001b[0m\u001b[0;34m\u001b[0m\u001b[0;34m\u001b[0m\u001b[0m\n\u001b[1;32m      5\u001b[0m \u001b[0;32mfor\u001b[0m \u001b[0mtoken\u001b[0m\u001b[0;34m,\u001b[0m \u001b[0mcount\u001b[0m \u001b[0;32min\u001b[0m \u001b[0mzip\u001b[0m\u001b[0;34m(\u001b[0m\u001b[0mtop_tokens\u001b[0m\u001b[0;34m,\u001b[0m \u001b[0mtop_counts\u001b[0m\u001b[0;34m)\u001b[0m\u001b[0;34m:\u001b[0m\u001b[0;34m\u001b[0m\u001b[0;34m\u001b[0m\u001b[0m\n\u001b[0;32m----> 6\u001b[0;31m     \u001b[0mdecoded_token\u001b[0m \u001b[0;34m=\u001b[0m \u001b[0mnew_tokenizer\u001b[0m\u001b[0;34m.\u001b[0m\u001b[0mdecode\u001b[0m\u001b[0;34m(\u001b[0m\u001b[0;34m[\u001b[0m\u001b[0mtoken\u001b[0m\u001b[0;34m]\u001b[0m\u001b[0;34m)\u001b[0m\u001b[0;34m\u001b[0m\u001b[0;34m\u001b[0m\u001b[0m\n\u001b[0m\u001b[1;32m      7\u001b[0m     \u001b[0mprint\u001b[0m\u001b[0;34m(\u001b[0m\u001b[0;34mf\"{decoded_token}: {count}\"\u001b[0m\u001b[0;34m)\u001b[0m\u001b[0;34m\u001b[0m\u001b[0;34m\u001b[0m\u001b[0m\n",
            "\u001b[0;32m/usr/local/lib/python3.10/dist-packages/transformers/tokenization_utils_base.py\u001b[0m in \u001b[0;36mdecode\u001b[0;34m(self, token_ids, skip_special_tokens, clean_up_tokenization_spaces, **kwargs)\u001b[0m\n\u001b[1;32m   3507\u001b[0m         \u001b[0mtoken_ids\u001b[0m \u001b[0;34m=\u001b[0m \u001b[0mto_py_obj\u001b[0m\u001b[0;34m(\u001b[0m\u001b[0mtoken_ids\u001b[0m\u001b[0;34m)\u001b[0m\u001b[0;34m\u001b[0m\u001b[0;34m\u001b[0m\u001b[0m\n\u001b[1;32m   3508\u001b[0m \u001b[0;34m\u001b[0m\u001b[0m\n\u001b[0;32m-> 3509\u001b[0;31m         return self._decode(\n\u001b[0m\u001b[1;32m   3510\u001b[0m             \u001b[0mtoken_ids\u001b[0m\u001b[0;34m=\u001b[0m\u001b[0mtoken_ids\u001b[0m\u001b[0;34m,\u001b[0m\u001b[0;34m\u001b[0m\u001b[0;34m\u001b[0m\u001b[0m\n\u001b[1;32m   3511\u001b[0m             \u001b[0mskip_special_tokens\u001b[0m\u001b[0;34m=\u001b[0m\u001b[0mskip_special_tokens\u001b[0m\u001b[0;34m,\u001b[0m\u001b[0;34m\u001b[0m\u001b[0;34m\u001b[0m\u001b[0m\n",
            "\u001b[0;32m/usr/local/lib/python3.10/dist-packages/transformers/tokenization_utils_fast.py\u001b[0m in \u001b[0;36m_decode\u001b[0;34m(self, token_ids, skip_special_tokens, clean_up_tokenization_spaces, **kwargs)\u001b[0m\n\u001b[1;32m    544\u001b[0m         \u001b[0;32mif\u001b[0m \u001b[0misinstance\u001b[0m\u001b[0;34m(\u001b[0m\u001b[0mtoken_ids\u001b[0m\u001b[0;34m,\u001b[0m \u001b[0mint\u001b[0m\u001b[0;34m)\u001b[0m\u001b[0;34m:\u001b[0m\u001b[0;34m\u001b[0m\u001b[0;34m\u001b[0m\u001b[0m\n\u001b[1;32m    545\u001b[0m             \u001b[0mtoken_ids\u001b[0m \u001b[0;34m=\u001b[0m \u001b[0;34m[\u001b[0m\u001b[0mtoken_ids\u001b[0m\u001b[0;34m]\u001b[0m\u001b[0;34m\u001b[0m\u001b[0;34m\u001b[0m\u001b[0m\n\u001b[0;32m--> 546\u001b[0;31m         \u001b[0mtext\u001b[0m \u001b[0;34m=\u001b[0m \u001b[0mself\u001b[0m\u001b[0;34m.\u001b[0m\u001b[0m_tokenizer\u001b[0m\u001b[0;34m.\u001b[0m\u001b[0mdecode\u001b[0m\u001b[0;34m(\u001b[0m\u001b[0mtoken_ids\u001b[0m\u001b[0;34m,\u001b[0m \u001b[0mskip_special_tokens\u001b[0m\u001b[0;34m=\u001b[0m\u001b[0mskip_special_tokens\u001b[0m\u001b[0;34m)\u001b[0m\u001b[0;34m\u001b[0m\u001b[0;34m\u001b[0m\u001b[0m\n\u001b[0m\u001b[1;32m    547\u001b[0m \u001b[0;34m\u001b[0m\u001b[0m\n\u001b[1;32m    548\u001b[0m         clean_up_tokenization_spaces = (\n",
            "\u001b[0;31mTypeError\u001b[0m: argument 'ids': 'numpy.str_' object cannot be interpreted as an integer"
          ]
        }
      ]
    },
    {
      "cell_type": "code",
      "source": [
        "top_tokens"
      ],
      "metadata": {
        "colab": {
          "base_uri": "https://localhost:8080/"
        },
        "id": "DN1nMBwL2wzr",
        "outputId": "a5800b2c-3318-456d-c993-fd587d1dc43d"
      },
      "execution_count": 71,
      "outputs": [
        {
          "output_type": "execute_result",
          "data": {
            "text/plain": [
              "array(['nn', 'היתד', 'הקבילה', 'בלמ', 'האוירית', 'אוירית', 'לטייסת',\n",
              "       'האוירי', 'נם', 'הקובל', 'משהב', 'מטוסו', 'nnn', 'אוירי', 'rl',\n",
              "       'המודיעינית', 'למטוסי', '##rn', 'lr', 'tnn', '##ln', 'הסילון',\n",
              "       '7u', 'nrn', 'ntn', 'yn', 'הטייסות', 'lnn', 'מיגים', 'מס1974',\n",
              "       'הגרילה', 'הפנטום', 'n7', 'המפציצים', 'המבצעיות', 'טליק', 'ממטוסי',\n",
              "       '7y', 'לטייסים', 'indb', 'הפיקודי', 'המירז', 'כטייס', 'מודיעינית',\n",
              "       'המיגים', 'האויד', 'דות', 'למפקדים', 'במפקדת', 'שהמטוס', 'הנווט',\n",
              "       'הלהק', 'הפרופלר', 'המפציץ', 'rnn', 'הלין', 'nln', 'לתעופה',\n",
              "       'מפציצי', 'lln', 'המריאו', 'yl', 'לקבילות', 'המלש', 'yt', '##tl',\n",
              "       'כמטוס', 'ומטוסי', 'מאך', 'המצנח', 'והמטוס', 'הביטחו', 'הטקטית',\n",
              "       'היירוט', '1r', 'מיראז', 'סילוני', '1n', 'טסנו', 'והתקשוב',\n",
              "       'המבצעיים', 'וכוי', '1t', 'הטקטי', 'nnt', 'המיראז', 'lnl',\n",
              "       'פיקודי', 'מס1957', 'ibid', 'uj', 'מירז', 'strategic', 'trn',\n",
              "       'naval', 'מפקדות', 'בפקודות', 'iln', 'אוירון', 'nil'], dtype='<U19')"
            ]
          },
          "metadata": {},
          "execution_count": 71
        }
      ]
    },
    {
      "cell_type": "code",
      "source": [],
      "metadata": {
        "id": "B2vf9XAFzxt0"
      },
      "execution_count": null,
      "outputs": []
    }
  ]
}